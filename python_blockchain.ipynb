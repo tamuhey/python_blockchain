{
 "cells": [
  {
   "cell_type": "markdown",
   "metadata": {},
   "source": [
    "- https://hackernoon.com/learn-blockchains-by-building-one-117428612f46\n",
    "- http://adilmoujahid.com/posts/2018/03/intro-blockchain-bitcoin-python/\n",
    "- [Blockchain Demo](https://anders.com/blockchain/blockchain.html)\n",
    "- [ipynb\\_playground/dumbcoin\\.ipynb at master · julienr/ipynb\\_playground](https://github.com/julienr/ipynb_playground/blob/master/bitcoin/dumbcoin/dumbcoin.ipynb)\n",
    "- [Explaining blockchain — how proof of work enables trustless consensus](https://keepingstock.net/explaining-blockchain-how-proof-of-work-enables-trustless-consensus-2abed27f0845)\n",
    "- https://bitcoin.org/bitcoin.pdf"
   ]
  },
  {
   "cell_type": "markdown",
   "metadata": {},
   "source": [
    "# Transactionの実装\n",
    "- 取引記録を発行することで，取引を行う"
   ]
  },
  {
   "cell_type": "code",
   "execution_count": 1,
   "metadata": {},
   "outputs": [],
   "source": [
    "from dataclasses import dataclass\n",
    "@dataclass\n",
    "class Transaction:\n",
    "    sender_address: int\n",
    "    receiver_address: int\n",
    "    value: float "
   ]
  },
  {
   "cell_type": "markdown",
   "metadata": {},
   "source": [
    "# Walletの実装\n",
    "- addressで取引先を識別する\n",
    "- とりあえず今は，Walletは適当な1つの`int`をaddressとして持つことにする\n",
    "- Transactionを発行する機能をもたせる"
   ]
  },
  {
   "cell_type": "code",
   "execution_count": 2,
   "metadata": {},
   "outputs": [],
   "source": [
    "@dataclass\n",
    "class Wallet:\n",
    "    address: int\n",
    "    def send(self, receiver_address, value):\n",
    "        return Transaction(self.address, receiver_address, value)"
   ]
  },
  {
   "cell_type": "markdown",
   "metadata": {},
   "source": [
    "# Ledgerの実装\n",
    "- transactionを記録しておく台帳を作る\n",
    "- とりあえずはリストにしておく"
   ]
  },
  {
   "cell_type": "code",
   "execution_count": 3,
   "metadata": {},
   "outputs": [],
   "source": [
    "Ledger=list"
   ]
  },
  {
   "cell_type": "markdown",
   "metadata": {},
   "source": [
    "## Demo: シンプルな取引"
   ]
  },
  {
   "cell_type": "code",
   "execution_count": 4,
   "metadata": {},
   "outputs": [],
   "source": [
    "alice=Wallet(1)\n",
    "bob=Wallet(2)\n",
    "ledger=Ledger()"
   ]
  },
  {
   "cell_type": "markdown",
   "metadata": {},
   "source": [
    "- aliceがtransactionを発行して取引を行う"
   ]
  },
  {
   "cell_type": "code",
   "execution_count": 5,
   "metadata": {},
   "outputs": [],
   "source": [
    "value=5\n",
    "transaction=alice.send(2,5) # Alice send `value` to Bob\n",
    "ledger.append(transaction)"
   ]
  },
  {
   "cell_type": "markdown",
   "metadata": {},
   "source": [
    "- とりあえずはledgerを第三者に管理してもらうことにする\n",
    "- 第三者による取引内容の書き換えはどのように防げばよいだろうか"
   ]
  },
  {
   "cell_type": "markdown",
   "metadata": {},
   "source": [
    "# 公開鍵暗号(電子署名)を用いたtransactionの発行\n",
    "- senderはtransactionに電子署名を行う\n",
    "    - 今回はRSAを用いることにする\n",
    "    - これによって第三者によるtransactionの書き換えを防ぐことができる\n",
    "    - 電子署名の公開鍵はどのように扱う?\n",
    "- 公開鍵をWalletのaddressとする!"
   ]
  },
  {
   "cell_type": "markdown",
   "metadata": {},
   "source": [
    "## transactionの改良\n",
    "- 電子署名できるようにする\n",
    "    - 署名field `sign`の追加\n",
    "    - データを`json`の追加"
   ]
  },
  {
   "cell_type": "code",
   "execution_count": 6,
   "metadata": {},
   "outputs": [],
   "source": [
    "from typing import NamedTuple\n",
    "from Crypto.Hash import SHA\n",
    "from Crypto.PublicKey import RSA\n",
    "import json\n",
    "import dataclasses as dc"
   ]
  },
  {
   "cell_type": "code",
   "execution_count": 7,
   "metadata": {},
   "outputs": [],
   "source": [
    "@dataclass\n",
    "class Transaction:\n",
    "    sender_address: str\n",
    "    receiver_address: str\n",
    "    value: float\n",
    "    sign: str = None\n",
    "        \n",
    "    def str_data(self) -> str:\n",
    "        # return the str of value without `sign`\n",
    "        d=dc.asdict(self)\n",
    "        del d[\"sign\"]\n",
    "        return json.dumps(d)\n",
    "    \n",
    "    def json_dumps(self) -> str:\n",
    "        return json.dumps(dc.asdict(self))\n",
    "    @classmethod\n",
    "    def json_loads(cls, string) -> Transaction:\n",
    "        return cls(**json.loads(string))\n",
    "    \n",
    "    @property\n",
    "    def is_signed(self):\n",
    "        return self.sign is not None"
   ]
  },
  {
   "cell_type": "markdown",
   "metadata": {},
   "source": [
    "## Walletの改良\n",
    "- RSAによる公開鍵 - 秘密鍵を実装する\n",
    "- 簡単のためWalletはaddressを1つのみ持つことにする\n",
    "    - 例えばBitCoinでは匿名性の向上のため，一つのWalletは複数のキーペアを持つことができる ([参考](https://en.bitcoin.it/wiki/Transaction))"
   ]
  },
  {
   "cell_type": "code",
   "execution_count": 8,
   "metadata": {},
   "outputs": [],
   "source": [
    "from Crypto.Signature import PKCS1_v1_5\n",
    "import binascii"
   ]
  },
  {
   "cell_type": "code",
   "execution_count": 9,
   "metadata": {},
   "outputs": [],
   "source": [
    "def decode_key(key):\n",
    "    if isinstance(key, str):\n",
    "        return key\n",
    "    return binascii.hexlify(key.exportKey(format='DER')).decode('ascii')\n",
    "def encode_key(key):\n",
    "    if isinstance(key, RSA._RSAobj):\n",
    "        return key\n",
    "    return RSA.importKey(binascii.unhexlify(key))"
   ]
  },
  {
   "cell_type": "code",
   "execution_count": 10,
   "metadata": {},
   "outputs": [],
   "source": [
    "class Wallet:\n",
    "    def __init__(self):\n",
    "        key=RSA.generate(1024)\n",
    "        self.private_key = decode_key(key)\n",
    "        self.address = decode_key(key.publickey())\n",
    "    \n",
    "    def sign_transaction(self, transaction):\n",
    "        signer=PKCS1_v1_5.new(encode_key(self.private_key))\n",
    "        h=SHA.new(transaction.str_data().encode())\n",
    "        return dc.replace(transaction, sign=signer.sign(h).hex())\n",
    "    \n",
    "    def send(self, receiver_address, value):\n",
    "        transaction=Transaction(self.address, receiver_address, value)\n",
    "        return self.sign_transaction(transaction)"
   ]
  },
  {
   "cell_type": "code",
   "execution_count": 11,
   "metadata": {},
   "outputs": [],
   "source": [
    "def verify_transaction(transaction):\n",
    "    if transaction.sign is None:\n",
    "        return False\n",
    "    h=SHA.new(transaction.str_data().encode())\n",
    "    verifier=PKCS1_v1_5.new(encode_key(transaction.sender_address))\n",
    "    return verifier.verify(h, binascii.unhexlify(transaction.sign))"
   ]
  },
  {
   "cell_type": "markdown",
   "metadata": {},
   "source": [
    "## Demo: RSAを用いたtransactionの発行とチェック"
   ]
  },
  {
   "cell_type": "code",
   "execution_count": 12,
   "metadata": {},
   "outputs": [],
   "source": [
    "alice=Wallet() # now the address is automatically generated\n",
    "bob=Wallet()"
   ]
  },
  {
   "cell_type": "code",
   "execution_count": 13,
   "metadata": {},
   "outputs": [],
   "source": [
    "value=5\n",
    "transaction=alice.send(bob.address, value)"
   ]
  },
  {
   "cell_type": "markdown",
   "metadata": {},
   "source": [
    "- check"
   ]
  },
  {
   "cell_type": "code",
   "execution_count": 14,
   "metadata": {},
   "outputs": [
    {
     "data": {
      "text/plain": [
       "True"
      ]
     },
     "execution_count": 14,
     "metadata": {},
     "output_type": "execute_result"
    }
   ],
   "source": [
    "verify_transaction(transaction)"
   ]
  },
  {
   "cell_type": "markdown",
   "metadata": {},
   "source": [
    "- 第三者によるデータの改竄リスクを低減することができた \n",
    "- しかし依然として，double-spending problemを防ぐには信頼のある第三者が必要となる\n",
    "- すべてのtransactionが公開されていれば，double-spendingは防げるのでは？"
   ]
  },
  {
   "cell_type": "markdown",
   "metadata": {},
   "source": [
    "# Block ChainによるTransactionの公開\n",
    "- いくつかのtransactionをまとめて，timestamp付き`block`で公開することを考える\n",
    "    - ある特定の時間にそのtransactionが存在したことが保証される\n",
    "- さらに，blockには直前のtimestampのhashを含めることにする\n",
    "    - 直前の`block`が強化されることになる\n",
    "- これでtransactionをチェックしてdouble-spendingを防ぐ第三者は必要なくなった\n",
    "    - 今度は信頼のあるtimestampサーバが必要になったが，これは後ほど解決する"
   ]
  },
  {
   "cell_type": "markdown",
   "metadata": {},
   "source": [
    "## Blockの実装\n",
    "- ついでにhash関数も実装する"
   ]
  },
  {
   "cell_type": "code",
   "execution_count": 15,
   "metadata": {},
   "outputs": [],
   "source": [
    "from typing import Tuple\n",
    "import hashlib"
   ]
  },
  {
   "cell_type": "code",
   "execution_count": 16,
   "metadata": {},
   "outputs": [],
   "source": [
    "from __future__ import annotations"
   ]
  },
  {
   "cell_type": "code",
   "execution_count": 17,
   "metadata": {},
   "outputs": [],
   "source": [
    "@dataclass\n",
    "class Block:\n",
    "    time: float\n",
    "    transactions: Tuple[Transaction]\n",
    "    previous_hash: str\n",
    "    sign: str = None\n",
    "        \n",
    "    def json_dumps(self) -> str:\n",
    "        dct=dc.asdict(self)\n",
    "        dct[\"transactions\"]=[t.json_dumps() for t in self.transactions]\n",
    "        return json.dumps(dct)\n",
    "    \n",
    "    @classmethod\n",
    "    def json_loads(cls, string) -> Block:\n",
    "        dct=json.loads(string)\n",
    "        dct[\"transactions\"]=tuple([Transaction.json_loads(t) for t in dct[\"transactions\"]])\n",
    "        return cls(**dct)\n",
    "        \n",
    "    def hash(self): \n",
    "        block_bytes=self.json_dumps().encode()\n",
    "        return hashlib.sha256(block_bytes).hexdigest()"
   ]
  },
  {
   "cell_type": "markdown",
   "metadata": {},
   "source": [
    "## Timestamp Serverの実装\n",
    "1. transactionのリストを受け取る\n",
    "2. 一つ前のblockのhashとtimestampをつけてBlockにまとめる\n",
    "3. 電子署名をする\n",
    "4. 公開する"
   ]
  },
  {
   "cell_type": "markdown",
   "metadata": {},
   "source": [
    "## BlockChainの実装\n",
    "- 公開されたBlockのhashをチェックし，chain状にBlockを保持する\n",
    "- 最初のblockはprevious blockがないため，特別なブロック(genesis)を用意する\n",
    "- Genesis Block\n",
    "    - https://en.bitcoin.it/wiki/Genesis_block\n",
    "    - BitCoinでは，ハードコードされている\n",
    "    - addressも書いてあるが，そのprivate keyをSatoshi Nakamotoが持っているかは不明らしい\n",
    "- 今回はただのリストにする"
   ]
  },
  {
   "cell_type": "code",
   "execution_count": 18,
   "metadata": {},
   "outputs": [],
   "source": [
    "from time import time"
   ]
  },
  {
   "cell_type": "code",
   "execution_count": 19,
   "metadata": {},
   "outputs": [],
   "source": [
    "class TimestampServer:\n",
    "    def __init__(self):\n",
    "        key=RSA.generate(1024)\n",
    "        self.public_key=key.publickey()\n",
    "        self.signer=PKCS1_v1_5.new(key)\n",
    "        \n",
    "        genesis=Block(time(), (), \"0\")\n",
    "        self.block_chain=[genesis]\n",
    "        \n",
    "    def generate_block(self, transactions):\n",
    "        block=Block(time(), tuple(transactions), self.block_chain[-1].hash())\n",
    "        dct=dc.asdict(block)\n",
    "        del dct[\"sign\"]\n",
    "        block.sign=self.signer.sign(SHA.new(json.dumps(dct).encode())).hex()\n",
    "        self.block_chain.append(block)"
   ]
  },
  {
   "cell_type": "markdown",
   "metadata": {},
   "source": [
    "## blockchainの正当性確認"
   ]
  },
  {
   "cell_type": "code",
   "execution_count": 20,
   "metadata": {},
   "outputs": [],
   "source": [
    "def verify_block(previous_block, block, timestamp_server_publickey) -> bool:\n",
    "    is_correct_hash = previous_block.hash() ==  block.previous_hash\n",
    "    is_correct_transactions = all(map(verify_transaction, block.transactions))\n",
    "    \n",
    "    dct=dc.asdict(block)\n",
    "    del dct[\"sign\"]\n",
    "    h=SHA.new(json.dumps(dct).encode())\n",
    "    verifier=PKCS1_v1_5.new(timestamp_server_publickey)\n",
    "    is_correct_sign=verifier.verify(h, binascii.unhexlify(block.sign))\n",
    "    return is_correct_hash and is_correct_transactions and is_correct_sign"
   ]
  },
  {
   "cell_type": "code",
   "execution_count": 21,
   "metadata": {},
   "outputs": [],
   "source": [
    "def verify_blockchain(chain, timestamp_server_publickey):\n",
    "    for i in range(len(chain)-1):\n",
    "        if not verify_block(chain[-i-2],chain[-i-1],timestamp_server_publickey):\n",
    "            return False\n",
    "    return True"
   ]
  },
  {
   "cell_type": "markdown",
   "metadata": {},
   "source": [
    "## Demo: Timestamp server による Blockの公開とBlockChainへの登録\n",
    "- timestamp serverをつくる"
   ]
  },
  {
   "cell_type": "code",
   "execution_count": 22,
   "metadata": {},
   "outputs": [],
   "source": [
    "timestamp_server=TimestampServer()"
   ]
  },
  {
   "cell_type": "markdown",
   "metadata": {},
   "source": [
    "- 取引"
   ]
  },
  {
   "cell_type": "code",
   "execution_count": 23,
   "metadata": {},
   "outputs": [],
   "source": [
    "transactions=[]\n",
    "transactions.append(alice.send(bob.address, 5))\n",
    "transactions.append(bob.send(alice.address, 5))"
   ]
  },
  {
   "cell_type": "markdown",
   "metadata": {},
   "source": [
    "- Block生成"
   ]
  },
  {
   "cell_type": "code",
   "execution_count": 24,
   "metadata": {},
   "outputs": [],
   "source": [
    "timestamp_server.generate_block(transactions)"
   ]
  },
  {
   "cell_type": "markdown",
   "metadata": {},
   "source": [
    "- 結果確認"
   ]
  },
  {
   "cell_type": "code",
   "execution_count": 25,
   "metadata": {},
   "outputs": [
    {
     "data": {
      "text/plain": [
       "True"
      ]
     },
     "execution_count": 25,
     "metadata": {},
     "output_type": "execute_result"
    }
   ],
   "source": [
    "verify_blockchain(timestamp_server.block_chain, timestamp_server.public_key)"
   ]
  },
  {
   "cell_type": "markdown",
   "metadata": {},
   "source": [
    "- timestampサーバを第三者に任せない方法がほしい"
   ]
  },
  {
   "cell_type": "markdown",
   "metadata": {},
   "source": [
    "# Proof-of-Workの実装\n",
    "- これがblockchainの革新的技術\n",
    "- block chainの正当性をtrust依存にするのではなく，cryptograph proofに基づくものにする\n",
    "    - chainの暗号学的強度を高める\n",
    "    - 同時にどのchainが\"正しい\"のか，決定するアルゴリズムも与える\n",
    "- 先程は\"信頼の置ける\" timestamp serverの電子署名が，Blockの正当性を保証していた\n",
    "- では誰でも同じ署名ができるような方法はないだろうか?\n",
    "    - 電子署名でやると，当然ブロックの正当性の証明にはならない\n",
    "- HashCashを用いる"
   ]
  },
  {
   "cell_type": "markdown",
   "metadata": {},
   "source": [
    " \n",
    "- blockの生成を\"コストの高い作業\"することによって強度を高める\n",
    "    - この作業によって生成された値`nonce`はblockの正当性証明となる\n",
    "    - blockは1つ前のhashも持っているから，chainの途中のblockを改ざんするには，そこから先すべてのblockを改ざんする必要がある\n",
    "    - blockの生成は計算コストが非常に高いから，chainの改ざんは莫大なコストを要することになる\n",
    "- 最も長いchainを\"正しい\"chainとする\n",
    "    - 最も長いchainは，もっとも多くの計算資源を投入していることになる\n",
    "    - これはone-CPU-one-voteとみなせる"
   ]
  },
  {
   "cell_type": "markdown",
   "metadata": {},
   "source": [
    "## blockにnonceを加える\n",
    "- blockのハッシュ値が適当な条件を満たすように`nonce`を追加する\n",
    "    - 例えば上4桁が0\n",
    "    - この制約を\"difficulty\"と呼ぶ\n",
    "    - difficultyは適当に調整される. 例えばbitcoinの場合は，blockの追加のintervalが10分程度になるように調整されるようだ\n",
    "        - [Difficulty \\- Bitcoin Wiki](https://en.bitcoin.it/wiki/Difficulty)\n",
    "    - 今回はdifficultyは固定にする\n",
    "- nonceを見つける作業が\"mine\"\n",
    "    - nonceが正しいことを確認するのは簡単\n",
    "    - nonceを見つけるのは難しい(総当たりで試して，あたりを引くしかない)\n",
    "    - これによって\"block\"の生成を非常に高コストにすることができる\n",
    "    - と同時に，正当性の確認にもなる\n",
    "- \"mine\"は第三者が行う"
   ]
  },
  {
   "cell_type": "code",
   "execution_count": 26,
   "metadata": {},
   "outputs": [],
   "source": [
    "@dataclass\n",
    "class Block:\n",
    "    time: float\n",
    "    transactions: Tuple[Transaction]\n",
    "    previous_hash: str\n",
    "    nonce: int = None\n",
    "        \n",
    "    def json_dumps(self) -> str:\n",
    "        dct=dc.asdict(self)\n",
    "        dct[\"transactions\"]=[t.json_dumps() for t in self.transactions]\n",
    "        return json.dumps(dct)\n",
    "    \n",
    "    @classmethod\n",
    "    def json_loads(cls, string) -> Block:\n",
    "        dct=json.loads(string)\n",
    "        dct[\"transactions\"]=tuple([Transaction.json_loads(t) for t in dct[\"transactions\"]])\n",
    "        return cls(**dct)\n",
    "        \n",
    "    def hash(self): \n",
    "        block_bytes=self.json_dumps().encode()\n",
    "        return hashlib.sha256(block_bytes).hexdigest()"
   ]
  },
  {
   "cell_type": "markdown",
   "metadata": {},
   "source": [
    "## mineの実装"
   ]
  },
  {
   "cell_type": "code",
   "execution_count": 27,
   "metadata": {},
   "outputs": [],
   "source": [
    "difficulty=4\n",
    "def valid_proof(block):\n",
    "    return block.hash()[:difficulty] == \"0\" * difficulty\n",
    "\n",
    "def mine(block):\n",
    "    nonce=0\n",
    "    block.nonce=nonce\n",
    "    while not valid_proof(block):\n",
    "        nonce += 1\n",
    "        block.nonce=nonce\n",
    "    return block"
   ]
  },
  {
   "cell_type": "markdown",
   "metadata": {},
   "source": [
    "- ついでにverify_blockも改良"
   ]
  },
  {
   "cell_type": "code",
   "execution_count": 28,
   "metadata": {},
   "outputs": [],
   "source": [
    "def verify_block(previous_block, block) -> bool:\n",
    "    is_correct_hash = previous_block.hash() ==  block.previous_hash\n",
    "    is_correct_transactions = all(map(verify_transaction, block.transactions))\n",
    "    is_correct_proof = valid_proof(block)\n",
    "    return is_correct_hash and is_correct_transactions and is_correct_proof"
   ]
  },
  {
   "cell_type": "code",
   "execution_count": 29,
   "metadata": {},
   "outputs": [],
   "source": [
    "class BlockChain(list):\n",
    "    def json_dumps(self) -> str:\n",
    "        return json.dumps([block.json_dumps() for block in self])\n",
    "    @classmethod\n",
    "    def json_loads(cls, string) -> BlockChain:\n",
    "        return cls([Block.json_loads(s) for s in json.loads(string)])"
   ]
  },
  {
   "cell_type": "markdown",
   "metadata": {},
   "source": [
    "## Demo4: tranasctionの発行からminingまで"
   ]
  },
  {
   "cell_type": "code",
   "execution_count": 30,
   "metadata": {},
   "outputs": [],
   "source": [
    "genesis=Block(time(), (), \"0\")\n",
    "block_chain=BlockChain([genesis])\n",
    "\n",
    "# 取引\n",
    "transactions=[]\n",
    "transactions.append(alice.send(bob.address, 5))\n",
    "transactions.append(bob.send(alice.address, 5))"
   ]
  },
  {
   "cell_type": "markdown",
   "metadata": {},
   "source": [
    "- mine"
   ]
  },
  {
   "cell_type": "code",
   "execution_count": 31,
   "metadata": {},
   "outputs": [],
   "source": [
    "previous_hash=block_chain[-1].hash()\n",
    "block=mine(Block(time(), tuple(transactions), previous_hash))"
   ]
  },
  {
   "cell_type": "code",
   "execution_count": 32,
   "metadata": {},
   "outputs": [
    {
     "data": {
      "text/plain": [
       "36589"
      ]
     },
     "execution_count": 32,
     "metadata": {},
     "output_type": "execute_result"
    }
   ],
   "source": [
    "block.nonce"
   ]
  },
  {
   "cell_type": "code",
   "execution_count": 33,
   "metadata": {},
   "outputs": [
    {
     "data": {
      "text/plain": [
       "True"
      ]
     },
     "execution_count": 33,
     "metadata": {},
     "output_type": "execute_result"
    }
   ],
   "source": [
    "verify_block(block_chain[-1], block)"
   ]
  },
  {
   "cell_type": "markdown",
   "metadata": {},
   "source": [
    "# NodeとNetwork\n",
    "- 前回までで分散台帳の準備は整った\n",
    "- 具体的にblockchainを保持する`node`を実装する\n",
    "- 具体的なnetworkの動きは以下のようになる ([@Nakamoto2018](www.bitcoin.org))"
   ]
  },
  {
   "cell_type": "markdown",
   "metadata": {},
   "source": [
    "1. transaction生成．なるべく多くのnodeにbroadcastする\n",
    "2. nodeはtransactionを集めてblockにまとめる\n",
    "3. mine\n",
    "4. mineが終わったら，他のnodeにblockをbroadcastする\n",
    "5. blockを受け取ったnodeは，blockの正当性を確認し，double-spendingのチェックをする\n",
    "6. チェックが通れば，次のblockの作成を始める"
   ]
  },
  {
   "cell_type": "markdown",
   "metadata": {},
   "source": [
    "- ついでにいままでのいろいろなmethodをまとめる\n",
    "- 今回はbroadcastはmultiprocessのサーバープロセスを用いて模擬する\n",
    "- データのやり取りはすべてjson"
   ]
  },
  {
   "cell_type": "code",
   "execution_count": 34,
   "metadata": {},
   "outputs": [],
   "source": [
    "from uuid import uuid4\n",
    "from time import sleep\n",
    "from copy import deepcopy\n",
    "import multiprocessing as mp\n",
    "import random\n",
    "from itertools import count"
   ]
  },
  {
   "cell_type": "code",
   "execution_count": 242,
   "metadata": {},
   "outputs": [],
   "source": [
    "difficulty=3\n",
    "class Node:\n",
    "    def __init__(self, network, genesis, uuid=None, neighbours=None):\n",
    "        self.chain=BlockChain([genesis])\n",
    "        self.uuid=uuid or str(uuid4())\n",
    "        self.network=network\n",
    "        self.neighbours=neighbours or [self.uuid]\n",
    "    \n",
    "    def mine(self):\n",
    "        transactions=self.network.get_transactions(self.uuid)\n",
    "        if len(transactions)==0:\n",
    "            return False # cannot mine due to no transactions\n",
    "        previous_hash=self.chain[-1].hash()\n",
    "        block=Block(time(), tuple(transactions), previous_hash)\n",
    "        \n",
    "        for n in self.random_generator():\n",
    "            block.nonce=n\n",
    "            if self.verify_proof(block):\n",
    "                break\n",
    "        self.broadcast_block(block)\n",
    "        return True # successfully mined\n",
    "    \n",
    "    @staticmethod\n",
    "    def random_generator(step=None):\n",
    "        step = step or random.randint(1e4, 1e5)\n",
    "        for c in count():\n",
    "            for i in random.sample(range(c*step, (c+1)*step), step):\n",
    "                yield i\n",
    "        \n",
    "    def add_block(self):\n",
    "        for block in self.network.get_blocks(self.uuid):\n",
    "            if self.verify_block(block):\n",
    "                self.chain.append(block)\n",
    "                if self.verify_chain(self.chain):\n",
    "                    return True \n",
    "                else:\n",
    "                    self.chain.pop(-1)\n",
    "        return False # no block is added\n",
    "    \n",
    "    def broadcast_block(self, block):\n",
    "        for uuid in self.neighbours:\n",
    "            self.network.post_block(block, uuid)\n",
    "    \n",
    "    def work(self):\n",
    "        while True:\n",
    "            if not self.mine():\n",
    "                sleep(0.1) # wait due to no transactions\n",
    "            else:\n",
    "                print(self.uuid, \"Mined a block\")\n",
    "            if self.add_block():\n",
    "                print(self.uuid, \"Added one block\")\n",
    "            self.network.post_chain(self.chain, self.uuid) # publish my blockchain\n",
    "            if self.resolve_conflicts():\n",
    "                print(self.uuid, \"Change chain\")\n",
    "            \n",
    "    def resolve_conflicts(self):\n",
    "        \"\"\"Longest valid chain is authoritative\"\"\"\n",
    "        authoritative_chain=self.chain\n",
    "        for node_id in self.neighbours:\n",
    "            chain=self.network.get_chain(node_id)\n",
    "            if not self.verify_chain(chain):\n",
    "                # node is incorrect\n",
    "                continue\n",
    "            if len(chain)>len(authoritative_chain):\n",
    "                print(\"found long chain\")\n",
    "                # Longest valid chain is authoritative\n",
    "                authoritative_chain=deepcopy(chain)\n",
    "        self.chain=authoritative_chain\n",
    "        return self.chain is not authoritative_chain\n",
    "        \n",
    "    @staticmethod\n",
    "    def verify_transaction(transaction):\n",
    "        if transaction.sign is None:\n",
    "            return False\n",
    "        h=SHA.new(transaction.str_data().encode())\n",
    "        verifier=PKCS1_v1_5.new(encode_key(transaction.sender_address))\n",
    "        return verifier.verify(h, binascii.unhexlify(transaction.sign))\n",
    "    \n",
    "    @staticmethod\n",
    "    def verify_proof(block):\n",
    "        return block.hash()[:difficulty] == \"0\" * difficulty\n",
    "    \n",
    "    def verify_block(self, block) -> bool:\n",
    "        is_correct_transactions = all(map(self.verify_transaction, block.transactions))\n",
    "        is_correct_proof = self.verify_proof(block)\n",
    "        return is_correct_transactions and is_correct_proof\n",
    "    \n",
    "    def verify_chain(self, chain):\n",
    "        for i in range(len(chain)-1, 0, -1):\n",
    "            if not self.verify_block(chain[i]):\n",
    "                return False\n",
    "            if chain[i-1].hash() != chain[i].previous_hash:\n",
    "                return False\n",
    "        return True"
   ]
  },
  {
   "cell_type": "markdown",
   "metadata": {},
   "source": [
    "- Walletもネットワーク対応に"
   ]
  },
  {
   "cell_type": "code",
   "execution_count": 210,
   "metadata": {},
   "outputs": [],
   "source": [
    "class Wallet:\n",
    "    def __init__(self, network):\n",
    "        key=RSA.generate(1024)\n",
    "        self.private_key = decode_key(key)\n",
    "        self.address = decode_key(key.publickey())\n",
    "        self.network=network\n",
    "        self.nodes=[]\n",
    "    \n",
    "    def sign_transaction(self, transaction):\n",
    "        signer=PKCS1_v1_5.new(encode_key(self.private_key))\n",
    "        h=SHA.new(transaction.str_data().encode())\n",
    "        return dc.replace(transaction, sign=signer.sign(h).hex())\n",
    "    \n",
    "    def send(self, receiver_address, value):\n",
    "        transaction=Transaction(self.address, receiver_address, value)\n",
    "        self.broadcast(self.sign_transaction(transaction))\n",
    "    \n",
    "    def broadcast(self, transaction):\n",
    "        for uuid in self.nodes:\n",
    "            self.network.post_transaction(transaction, uuid)"
   ]
  },
  {
   "cell_type": "markdown",
   "metadata": {},
   "source": [
    "- networkっぽいものを実装する\n",
    "    - Network classを中継点としてデータの遣り取りをする\n",
    "- あとでmultiprocessでノードを動かすために，データの管理はmanagerで行う"
   ]
  },
  {
   "cell_type": "code",
   "execution_count": 211,
   "metadata": {},
   "outputs": [],
   "source": [
    "from typing import List"
   ]
  },
  {
   "cell_type": "code",
   "execution_count": 212,
   "metadata": {},
   "outputs": [],
   "source": [
    "class Network:\n",
    "    def __init__(self):\n",
    "        self.manager=mp.Manager()\n",
    "        self.chains=self.manager.dict()\n",
    "        self.blocks=self.manager.dict()\n",
    "        self.transactions=self.manager.dict()\n",
    "        \n",
    "    def post_chain(self, chain, uuid):\n",
    "        self.chains[uuid]=chain.json_dumps()\n",
    "    \n",
    "    def get_chain(self, uuid) -> BlockChain:\n",
    "        if uuid not in self.chains:\n",
    "            return []\n",
    "        return BlockChain.json_loads(self.chains[uuid])\n",
    "    \n",
    "    def post_block(self, block, uuid):\n",
    "        if uuid not in self.blocks:\n",
    "            self.blocks[uuid]=self.manager.list([block.json_dumps()])\n",
    "        else:\n",
    "            self.blocks[uuid].append(block.json_dumps())\n",
    "            \n",
    "    def get_blocks(self, uuid) -> List[Block]:\n",
    "        if uuid not in self.blocks:\n",
    "            return []\n",
    "        res=[Block.json_loads(s) for s in self.blocks[uuid]]\n",
    "        self.blocks[uuid][:]=[]\n",
    "        return res\n",
    "    \n",
    "    def post_transaction(self, transaction, uuid):\n",
    "        if uuid not in self.transactions:\n",
    "            self.transactions[uuid]=self.manager.list([transaction.json_dumps()])\n",
    "        else:\n",
    "            self.transactions[uuid].append(transaction.json_dumps())\n",
    "            \n",
    "    def get_transactions(self, uuid) -> Tuple[Transaction]:\n",
    "        if uuid not in self.transactions:\n",
    "            return []\n",
    "        res=[Transaction.json_loads(s) for s in self.transactions[uuid]]\n",
    "        self.transactions[uuid][:]=[]\n",
    "        return res\n",
    "    \n",
    "    def shutdown(self):\n",
    "        self.manager.shutdown()"
   ]
  },
  {
   "cell_type": "code",
   "execution_count": 258,
   "metadata": {},
   "outputs": [],
   "source": [
    "genesis=Block(time(), (), \"0\")\n",
    "network=Network()\n",
    "alice=Wallet(network)\n",
    "bob=Wallet(network)"
   ]
  },
  {
   "cell_type": "code",
   "execution_count": 259,
   "metadata": {},
   "outputs": [],
   "source": [
    "def node_work(uuid, neighbours):\n",
    "    node=Node(network, genesis, uuid, neighbours)\n",
    "    node.neighbours=neighbours\n",
    "    node.work()"
   ]
  },
  {
   "cell_type": "code",
   "execution_count": 260,
   "metadata": {},
   "outputs": [],
   "source": [
    "n=5\n",
    "nodes=[str(uuid4()) for _ in range(n)]"
   ]
  },
  {
   "cell_type": "code",
   "execution_count": 261,
   "metadata": {},
   "outputs": [
    {
     "name": "stdout",
     "output_type": "stream",
     "text": [
      "2850821f-bfbb-4e66-8fb5-67f8d16521fa Mined a block\n",
      "d93931ac-5e04-4497-a7c5-e2ee22bf415c Mined a block\n",
      "2850821f-bfbb-4e66-8fb5-67f8d16521fa Added one block\n",
      "d93931ac-5e04-4497-a7c5-e2ee22bf415c Added one block\n",
      "13dad767-d4ea-4c90-9dad-107d93bf8901 Mined a block\n",
      "bb94e075-35a2-4a5c-9e22-157693794f07 Mined a block\n",
      "13dad767-d4ea-4c90-9dad-107d93bf8901 Added one block\n",
      "bb94e075-35a2-4a5c-9e22-157693794f07 Added one block\n",
      "d93931ac-5e04-4497-a7c5-e2ee22bf415c Mined a block\n",
      "d93931ac-5e04-4497-a7c5-e2ee22bf415c Added one block\n",
      "bb94e075-35a2-4a5c-9e22-157693794f07 Added one block\n",
      "13dad767-d4ea-4c90-9dad-107d93bf8901 Added one block\n",
      "found long chain\n",
      "55265a39-c173-4f07-96f4-95b0dad346d3 Mined a block\n",
      "55265a39-c173-4f07-96f4-95b0dad346d3 Added one block\n",
      "found long chain\n",
      "2850821f-bfbb-4e66-8fb5-67f8d16521fa Mined a block\n",
      "2850821f-bfbb-4e66-8fb5-67f8d16521fa Added one block\n",
      "d93931ac-5e04-4497-a7c5-e2ee22bf415c Added one block\n",
      "13dad767-d4ea-4c90-9dad-107d93bf8901 Mined a block\n",
      "13dad767-d4ea-4c90-9dad-107d93bf8901 Added one block\n",
      "bb94e075-35a2-4a5c-9e22-157693794f07 Mined a block\n",
      "bb94e075-35a2-4a5c-9e22-157693794f07 Added one block\n",
      "55265a39-c173-4f07-96f4-95b0dad346d3 Mined a block\n",
      "55265a39-c173-4f07-96f4-95b0dad346d3 Added one block\n"
     ]
    }
   ],
   "source": [
    "workers=[]\n",
    "for uuid in nodes:\n",
    "    worker=mp.Process(target=node_work, args=(uuid, nodes))\n",
    "    workers.append(worker)\n",
    "    worker.start()"
   ]
  },
  {
   "cell_type": "code",
   "execution_count": 262,
   "metadata": {},
   "outputs": [],
   "source": [
    "alice.nodes=nodes[0:2]\n",
    "bob.nodes=nodes[1:3]"
   ]
  },
  {
   "cell_type": "code",
   "execution_count": 263,
   "metadata": {},
   "outputs": [],
   "source": [
    "taro=Wallet(network)\n",
    "taro.nodes=nodes"
   ]
  },
  {
   "cell_type": "code",
   "execution_count": 264,
   "metadata": {},
   "outputs": [],
   "source": [
    "taro.send(alice.address, 13)\n",
    "bob.send(alice.address, 10)\n",
    "alice.send(bob.address, 5)"
   ]
  },
  {
   "cell_type": "code",
   "execution_count": 266,
   "metadata": {},
   "outputs": [],
   "source": [
    "taro.send(alice.address, 10)"
   ]
  },
  {
   "cell_type": "code",
   "execution_count": 257,
   "metadata": {},
   "outputs": [],
   "source": [
    "for worker in workers:\n",
    "    worker.terminate()\n",
    "network.shutdown()"
   ]
  },
  {
   "cell_type": "markdown",
   "metadata": {},
   "source": [
    "# blockchain check"
   ]
  },
  {
   "cell_type": "code",
   "execution_count": 223,
   "metadata": {},
   "outputs": [],
   "source": [
    "import networkx as nx"
   ]
  },
  {
   "cell_type": "code",
   "execution_count": 267,
   "metadata": {},
   "outputs": [
    {
     "data": {
      "image/png": "[encoded data removed]",
      "text/plain": [
       "<Figure size 432x288 with 1 Axes>"
      ]
     },
     "metadata": {},
     "output_type": "display_data"
    }
   ],
   "source": [
    "g=nx.DiGraph()\n",
    "pos={}\n",
    "label={}\n",
    "group={}\n",
    "for j, (k, v) in enumerate(network.chains.items()):\n",
    "    chain=BlockChain.json_loads(v)\n",
    "    h=list(map(lambda x: x.hash()[:5], chain))\n",
    "    nodes=[f\"{k}_{i}\" for i in range(len(h))]\n",
    "    for i in range(len(h)):\n",
    "        node=f\"{k}_{i}\"\n",
    "        pos[node]=(j,i)\n",
    "        label[node]= h[i]\n",
    "        group[node]=j\n",
    "    g.add_nodes_from(nodes)\n",
    "    for i in range(len(h)-1):\n",
    "        g.add_edge(f\"{k}_{i}\",f\"{k}_{i+1}\",)\n",
    "\n",
    "nx.draw(g, labels=label, pos=pos, node_shape=\"s\")"
   ]
  }
 ],
 "metadata": {
  "kernelspec": {
   "display_name": "py37",
   "language": "python",
   "name": "py37"
  },
  "language_info": {
   "codemirror_mode": {
    "name": "ipython",
    "version": 3
   },
   "file_extension": ".py",
   "mimetype": "text/x-python",
   "name": "python",
   "nbconvert_exporter": "python",
   "pygments_lexer": "ipython3",
   "version": "3.7.1"
  }
 },
 "nbformat": 4,
 "nbformat_minor": 2
}
