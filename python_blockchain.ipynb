{
 "cells": [
  {
   "cell_type": "markdown",
   "metadata": {},
   "source": [
    "- https://hackernoon.com/learn-blockchains-by-building-one-117428612f46\n",
    "- http://adilmoujahid.com/posts/2018/03/intro-blockchain-bitcoin-python/\n",
    "- [Blockchain Demo](https://anders.com/blockchain/blockchain.html)\n",
    "- [ipynb\\_playground/dumbcoin\\.ipynb at master · julienr/ipynb\\_playground](https://github.com/julienr/ipynb_playground/blob/master/bitcoin/dumbcoin/dumbcoin.ipynb)\n",
    "- [Explaining blockchain — how proof of work enables trustless consensus](https://keepingstock.net/explaining-blockchain-how-proof-of-work-enables-trustless-consensus-2abed27f0845)\n",
    "- https://bitcoin.org/bitcoin.pdf"
   ]
  },
  {
   "cell_type": "markdown",
   "metadata": {},
   "source": [
    "# Walletの実装\n",
    "- addressで取引先を識別する\n",
    "- とりあえず今は，Walletは適当な1つの`int`をaddressとして持つことにする"
   ]
  },
  {
   "cell_type": "code",
   "execution_count": 43,
   "metadata": {},
   "outputs": [],
   "source": [
    "from dataclasses import dataclass\n",
    "@dataclass\n",
    "class Wallet:\n",
    "    address: int"
   ]
  },
  {
   "cell_type": "markdown",
   "metadata": {},
   "source": [
    "# Transactionの実装\n",
    "- 取引記録を発行することで，取引を行う"
   ]
  },
  {
   "cell_type": "code",
   "execution_count": 44,
   "metadata": {},
   "outputs": [],
   "source": [
    "@dataclass\n",
    "class Transaction:\n",
    "    sender_address: int\n",
    "    receiver_address: int\n",
    "    value: float "
   ]
  },
  {
   "cell_type": "markdown",
   "metadata": {},
   "source": [
    "# Ledgerの実装\n",
    "- transactionを記録しておく台帳を作る\n",
    "- とりあえずはリストにしておく"
   ]
  },
  {
   "cell_type": "code",
   "execution_count": 45,
   "metadata": {},
   "outputs": [],
   "source": [
    "Ledger=list"
   ]
  },
  {
   "cell_type": "markdown",
   "metadata": {},
   "source": [
    "## Demo: シンプルな取引"
   ]
  },
  {
   "cell_type": "code",
   "execution_count": 46,
   "metadata": {},
   "outputs": [],
   "source": [
    "alice=Wallet(1)\n",
    "bob=Wallet(2)\n",
    "ledger=Ledger()"
   ]
  },
  {
   "cell_type": "markdown",
   "metadata": {},
   "source": [
    "- aliceがtransactionを発行して取引を行う"
   ]
  },
  {
   "cell_type": "code",
   "execution_count": 47,
   "metadata": {},
   "outputs": [],
   "source": [
    "value=5\n",
    "transaction = Transaction(1,2,5) # send `value` from Alice to Bob\n",
    "ledger.append(transaction)"
   ]
  },
  {
   "cell_type": "markdown",
   "metadata": {},
   "source": [
    "- とりあえずはledgerを第三者に管理してもらうことにする\n",
    "- 第三者による取引内容の書き換えはどのように防げばよいだろうか"
   ]
  },
  {
   "cell_type": "markdown",
   "metadata": {},
   "source": [
    "# 公開鍵暗号(電子署名)を用いたtransactionの発行\n",
    "- senderはtransactionに電子署名を行う\n",
    "    - 今回はRSAを用いることにする\n",
    "    - これによって第三者によるtransactionの書き換えを防ぐことができる\n",
    "    - 電子署名の公開鍵はどのように扱う?\n",
    "- 公開鍵をWalletのaddressとする!"
   ]
  },
  {
   "cell_type": "markdown",
   "metadata": {},
   "source": [
    "## transactionの改良\n",
    "- 電子署名できるようにする\n",
    "    - 署名field `sign`の追加\n",
    "    - データを文字列で返す`str_data`の追加"
   ]
  },
  {
   "cell_type": "code",
   "execution_count": 50,
   "metadata": {},
   "outputs": [],
   "source": [
    "from typing import NamedTuple\n",
    "from Crypto.Hash import SHA\n",
    "from Crypto.PublicKey import RSA\n",
    "import json\n",
    "import dataclasses"
   ]
  },
  {
   "cell_type": "code",
   "execution_count": 51,
   "metadata": {},
   "outputs": [],
   "source": [
    "@dataclass\n",
    "class Transaction:\n",
    "    sender_address: str\n",
    "    receiver_address: str\n",
    "    value: float\n",
    "    sign: str = None\n",
    "        \n",
    "    def str_data(self) -> str:\n",
    "        # return the str of value without `sign`\n",
    "        d=dataclasses.asdict(self)\n",
    "        del d[\"sign\"]\n",
    "        return json.dumps(d)\n",
    "    \n",
    "    @property\n",
    "    def is_signed(self):\n",
    "        return self.sign is not None"
   ]
  },
  {
   "cell_type": "markdown",
   "metadata": {},
   "source": [
    "## Walletの改良\n",
    "- RSAによる公開鍵 - 秘密鍵を実装する\n",
    "- 簡単のためWalletはaddressを1つのみ持つことにする\n",
    "    - 例えばBitCoinでは匿名性の向上のため，一つのWalletは複数のキーペアを持つことができる ([参考](https://en.bitcoin.it/wiki/Transaction))"
   ]
  },
  {
   "cell_type": "code",
   "execution_count": 52,
   "metadata": {},
   "outputs": [],
   "source": [
    "from Crypto.Signature import PKCS1_v1_5\n",
    "import binascii"
   ]
  },
  {
   "cell_type": "code",
   "execution_count": 13,
   "metadata": {},
   "outputs": [],
   "source": [
    "def decode_key(key):\n",
    "    if isinstance(key, str):\n",
    "        return key\n",
    "    return binascii.hexlify(key.exportKey(format='DER')).decode('ascii')\n",
    "def encode_key(key):\n",
    "    if isinstance(key, RSA._RSAobj):\n",
    "        return key\n",
    "    return RSA.importKey(binascii.unhexlify(key))"
   ]
  },
  {
   "cell_type": "code",
   "execution_count": 66,
   "metadata": {},
   "outputs": [],
   "source": [
    "@dataclass\n",
    "class Wallet:\n",
    "    private_key: str = dataclasses.field(init=False)\n",
    "    address: str = dataclasses.field(init=False)\n",
    "        \n",
    "    def __post_init__(self):\n",
    "        key=RSA.generate(1024)\n",
    "        self.private_key = decode_key(key)\n",
    "        self.address = decode_key(key.publickey())\n",
    "    \n",
    "    def sign_transaction(self, transaction):\n",
    "        signer=PKCS1_v1_5.new(encode_key(self.private_key))\n",
    "        h=SHA.new(transaction.str_data().encode())\n",
    "        return dataclasses.replace(transaction, sign=signer.sign(h).hex())"
   ]
  },
  {
   "cell_type": "code",
   "execution_count": 67,
   "metadata": {},
   "outputs": [],
   "source": [
    "def verify_transaction(transaction):\n",
    "    if transaction.sign is None:\n",
    "        return False\n",
    "    h=SHA.new(transaction.str_data().encode())\n",
    "    verifier=PKCS1_v1_5.new(encode_key(transaction.sender_address))\n",
    "    return verifier.verify(h, binascii.unhexlify(transaction.sign))"
   ]
  },
  {
   "cell_type": "markdown",
   "metadata": {},
   "source": [
    "## Demo: RSAを用いたtransactionの発行とチェック"
   ]
  },
  {
   "cell_type": "code",
   "execution_count": 68,
   "metadata": {},
   "outputs": [],
   "source": [
    "alice=Wallet() # now the address is automatically generated\n",
    "bob=Wallet()"
   ]
  },
  {
   "cell_type": "code",
   "execution_count": 69,
   "metadata": {},
   "outputs": [],
   "source": [
    "value=5\n",
    "transaction=alice.sign_transaction(Transaction(alice.address, bob.address, value))"
   ]
  },
  {
   "cell_type": "markdown",
   "metadata": {},
   "source": [
    "- check"
   ]
  },
  {
   "cell_type": "code",
   "execution_count": 70,
   "metadata": {},
   "outputs": [
    {
     "data": {
      "text/plain": [
       "True"
      ]
     },
     "execution_count": 70,
     "metadata": {},
     "output_type": "execute_result"
    }
   ],
   "source": [
    "verify_transaction(transaction)"
   ]
  },
  {
   "cell_type": "markdown",
   "metadata": {},
   "source": [
    "- 第三者によるデータの改竄リスクを低減することができた \n",
    "- しかし依然として，double-spending problemを防ぐには信頼のある第三者が必要となる\n",
    "- すべてのtransactionが公開されていれば，double-spendingは防げるのでは？"
   ]
  },
  {
   "cell_type": "markdown",
   "metadata": {},
   "source": [
    "# Block ChainによるTransactionの公開\n",
    "- いくつかのtransactionをまとめて，timestamp付き`block`で公開することを考える\n",
    "    - ある特定の時間にそのtransactionが存在したことが保証される\n",
    "- さらに，blockには直前のtimestampのhashを含めることにする\n",
    "    - 直前の`block`が強化されることになる\n",
    "- これでtransactionをチェックしてdouble-spendingを防ぐ第三者は必要なくなった\n",
    "    - 今度は信頼のあるtimestampサーバが必要になったが，これは後ほど解決する"
   ]
  },
  {
   "cell_type": "markdown",
   "metadata": {},
   "source": [
    "## Blockの実装\n",
    "- ついでにhash関数も実装する"
   ]
  },
  {
   "cell_type": "code",
   "execution_count": 71,
   "metadata": {},
   "outputs": [],
   "source": [
    "from typing import Tuple\n",
    "import hashlib"
   ]
  },
  {
   "cell_type": "code",
   "execution_count": 73,
   "metadata": {},
   "outputs": [],
   "source": [
    "@dataclass\n",
    "class Block:\n",
    "    time: float\n",
    "    transactions: Tuple[Transaction]\n",
    "    previous_hash: str\n",
    "        \n",
    "def hash_block(block: Block): \n",
    "    block_bytes=json.dumps(block).encode()\n",
    "    return hashlib.sha256(block_bytes).hexdigest()"
   ]
  },
  {
   "cell_type": "markdown",
   "metadata": {},
   "source": [
    "## BlockChainの実装\n",
    "- 公開されたBlockのhashをチェックし，chain状にBlockを保持する\n",
    "- 最初のblockはprevious blockがないため，特別なブロック(genesis)を用意する\n",
    "- Genesis Block\n",
    "    - https://en.bitcoin.it/wiki/Genesis_block\n",
    "    - BitCoinでは，ハードコードされている\n",
    "    - addressも書いてあるが，そのprivate keyをSatoshi Nakamotoが持っているかは不明らしい\n",
    "- 今回はただのリストにする"
   ]
  },
  {
   "cell_type": "code",
   "execution_count": 74,
   "metadata": {},
   "outputs": [],
   "source": [
    "from time import time"
   ]
  },
  {
   "cell_type": "code",
   "execution_count": 75,
   "metadata": {},
   "outputs": [],
   "source": [
    "def verify_block(previous_block, block) -> bool:\n",
    "    is_correct_hash = hash_block(previous_block) ==  block.previous_hash\n",
    "    is_correct_transactions = all(map(verify_transaction, block.transactions))\n",
    "    return is_correct_hash and is_correct_transactions"
   ]
  },
  {
   "cell_type": "markdown",
   "metadata": {},
   "source": [
    "## Demo: Blockの公開とBlockChainへの登録"
   ]
  },
  {
   "cell_type": "code",
   "execution_count": 76,
   "metadata": {},
   "outputs": [],
   "source": [
    "genesis=Block(time(), (), \"0\")\n",
    "block_chain=[genesis]"
   ]
  },
  {
   "cell_type": "markdown",
   "metadata": {},
   "source": [
    "- 取引"
   ]
  },
  {
   "cell_type": "code",
   "execution_count": 78,
   "metadata": {},
   "outputs": [],
   "source": [
    "transactions=[]\n",
    "transactions.append(alice.sign_transaction(Transaction(alice.address, bob.address, 5)))\n",
    "transactions.append(bob.sign_transaction(Transaction(bob.address, alice.address, 10)))"
   ]
  },
  {
   "cell_type": "markdown",
   "metadata": {},
   "source": [
    "- Block生成"
   ]
  },
  {
   "cell_type": "code",
   "execution_count": 80,
   "metadata": {},
   "outputs": [
    {
     "ename": "TypeError",
     "evalue": "Object of type Transaction is not JSON serializable",
     "output_type": "error",
     "traceback": [
      "\u001b[0;31m---------------------------------------------------------------------------\u001b[0m",
      "\u001b[0;31mTypeError\u001b[0m                                 Traceback (most recent call last)",
      "\u001b[0;32m<ipython-input-80-dd4cb9f35502>\u001b[0m in \u001b[0;36m<module>\u001b[0;34m\u001b[0m\n\u001b[0;32m----> 1\u001b[0;31m \u001b[0mjson\u001b[0m\u001b[0;34m.\u001b[0m\u001b[0mdumps\u001b[0m\u001b[0;34m(\u001b[0m\u001b[0mtransactions\u001b[0m\u001b[0;34m[\u001b[0m\u001b[0;36m0\u001b[0m\u001b[0;34m]\u001b[0m\u001b[0;34m)\u001b[0m\u001b[0;34m\u001b[0m\u001b[0;34m\u001b[0m\u001b[0m\n\u001b[0m",
      "\u001b[0;32m~/my_path/envs/py37/lib/python3.7/json/__init__.py\u001b[0m in \u001b[0;36mdumps\u001b[0;34m(obj, skipkeys, ensure_ascii, check_circular, allow_nan, cls, indent, separators, default, sort_keys, **kw)\u001b[0m\n\u001b[1;32m    229\u001b[0m         \u001b[0mcls\u001b[0m \u001b[0;32mis\u001b[0m \u001b[0;32mNone\u001b[0m \u001b[0;32mand\u001b[0m \u001b[0mindent\u001b[0m \u001b[0;32mis\u001b[0m \u001b[0;32mNone\u001b[0m \u001b[0;32mand\u001b[0m \u001b[0mseparators\u001b[0m \u001b[0;32mis\u001b[0m \u001b[0;32mNone\u001b[0m \u001b[0;32mand\u001b[0m\u001b[0;34m\u001b[0m\u001b[0;34m\u001b[0m\u001b[0m\n\u001b[1;32m    230\u001b[0m         default is None and not sort_keys and not kw):\n\u001b[0;32m--> 231\u001b[0;31m         \u001b[0;32mreturn\u001b[0m \u001b[0m_default_encoder\u001b[0m\u001b[0;34m.\u001b[0m\u001b[0mencode\u001b[0m\u001b[0;34m(\u001b[0m\u001b[0mobj\u001b[0m\u001b[0;34m)\u001b[0m\u001b[0;34m\u001b[0m\u001b[0;34m\u001b[0m\u001b[0m\n\u001b[0m\u001b[1;32m    232\u001b[0m     \u001b[0;32mif\u001b[0m \u001b[0mcls\u001b[0m \u001b[0;32mis\u001b[0m \u001b[0;32mNone\u001b[0m\u001b[0;34m:\u001b[0m\u001b[0;34m\u001b[0m\u001b[0;34m\u001b[0m\u001b[0m\n\u001b[1;32m    233\u001b[0m         \u001b[0mcls\u001b[0m \u001b[0;34m=\u001b[0m \u001b[0mJSONEncoder\u001b[0m\u001b[0;34m\u001b[0m\u001b[0;34m\u001b[0m\u001b[0m\n",
      "\u001b[0;32m~/my_path/envs/py37/lib/python3.7/json/encoder.py\u001b[0m in \u001b[0;36mencode\u001b[0;34m(self, o)\u001b[0m\n\u001b[1;32m    197\u001b[0m         \u001b[0;31m# exceptions aren't as detailed.  The list call should be roughly\u001b[0m\u001b[0;34m\u001b[0m\u001b[0;34m\u001b[0m\u001b[0;34m\u001b[0m\u001b[0m\n\u001b[1;32m    198\u001b[0m         \u001b[0;31m# equivalent to the PySequence_Fast that ''.join() would do.\u001b[0m\u001b[0;34m\u001b[0m\u001b[0;34m\u001b[0m\u001b[0;34m\u001b[0m\u001b[0m\n\u001b[0;32m--> 199\u001b[0;31m         \u001b[0mchunks\u001b[0m \u001b[0;34m=\u001b[0m \u001b[0mself\u001b[0m\u001b[0;34m.\u001b[0m\u001b[0miterencode\u001b[0m\u001b[0;34m(\u001b[0m\u001b[0mo\u001b[0m\u001b[0;34m,\u001b[0m \u001b[0m_one_shot\u001b[0m\u001b[0;34m=\u001b[0m\u001b[0;32mTrue\u001b[0m\u001b[0;34m)\u001b[0m\u001b[0;34m\u001b[0m\u001b[0;34m\u001b[0m\u001b[0m\n\u001b[0m\u001b[1;32m    200\u001b[0m         \u001b[0;32mif\u001b[0m \u001b[0;32mnot\u001b[0m \u001b[0misinstance\u001b[0m\u001b[0;34m(\u001b[0m\u001b[0mchunks\u001b[0m\u001b[0;34m,\u001b[0m \u001b[0;34m(\u001b[0m\u001b[0mlist\u001b[0m\u001b[0;34m,\u001b[0m \u001b[0mtuple\u001b[0m\u001b[0;34m)\u001b[0m\u001b[0;34m)\u001b[0m\u001b[0;34m:\u001b[0m\u001b[0;34m\u001b[0m\u001b[0;34m\u001b[0m\u001b[0m\n\u001b[1;32m    201\u001b[0m             \u001b[0mchunks\u001b[0m \u001b[0;34m=\u001b[0m \u001b[0mlist\u001b[0m\u001b[0;34m(\u001b[0m\u001b[0mchunks\u001b[0m\u001b[0;34m)\u001b[0m\u001b[0;34m\u001b[0m\u001b[0;34m\u001b[0m\u001b[0m\n",
      "\u001b[0;32m~/my_path/envs/py37/lib/python3.7/json/encoder.py\u001b[0m in \u001b[0;36miterencode\u001b[0;34m(self, o, _one_shot)\u001b[0m\n\u001b[1;32m    255\u001b[0m                 \u001b[0mself\u001b[0m\u001b[0;34m.\u001b[0m\u001b[0mkey_separator\u001b[0m\u001b[0;34m,\u001b[0m \u001b[0mself\u001b[0m\u001b[0;34m.\u001b[0m\u001b[0mitem_separator\u001b[0m\u001b[0;34m,\u001b[0m \u001b[0mself\u001b[0m\u001b[0;34m.\u001b[0m\u001b[0msort_keys\u001b[0m\u001b[0;34m,\u001b[0m\u001b[0;34m\u001b[0m\u001b[0;34m\u001b[0m\u001b[0m\n\u001b[1;32m    256\u001b[0m                 self.skipkeys, _one_shot)\n\u001b[0;32m--> 257\u001b[0;31m         \u001b[0;32mreturn\u001b[0m \u001b[0m_iterencode\u001b[0m\u001b[0;34m(\u001b[0m\u001b[0mo\u001b[0m\u001b[0;34m,\u001b[0m \u001b[0;36m0\u001b[0m\u001b[0;34m)\u001b[0m\u001b[0;34m\u001b[0m\u001b[0;34m\u001b[0m\u001b[0m\n\u001b[0m\u001b[1;32m    258\u001b[0m \u001b[0;34m\u001b[0m\u001b[0m\n\u001b[1;32m    259\u001b[0m def _make_iterencode(markers, _default, _encoder, _indent, _floatstr,\n",
      "\u001b[0;32m~/my_path/envs/py37/lib/python3.7/json/encoder.py\u001b[0m in \u001b[0;36mdefault\u001b[0;34m(self, o)\u001b[0m\n\u001b[1;32m    177\u001b[0m \u001b[0;34m\u001b[0m\u001b[0m\n\u001b[1;32m    178\u001b[0m         \"\"\"\n\u001b[0;32m--> 179\u001b[0;31m         raise TypeError(f'Object of type {o.__class__.__name__} '\n\u001b[0m\u001b[1;32m    180\u001b[0m                         f'is not JSON serializable')\n\u001b[1;32m    181\u001b[0m \u001b[0;34m\u001b[0m\u001b[0m\n",
      "\u001b[0;31mTypeError\u001b[0m: Object of type Transaction is not JSON serializable"
     ]
    }
   ],
   "source": [
    "json.dumps(transactions[0])"
   ]
  },
  {
   "cell_type": "code",
   "execution_count": 79,
   "metadata": {},
   "outputs": [
    {
     "ename": "TypeError",
     "evalue": "Object of type Block is not JSON serializable",
     "output_type": "error",
     "traceback": [
      "\u001b[0;31m---------------------------------------------------------------------------\u001b[0m",
      "\u001b[0;31mTypeError\u001b[0m                                 Traceback (most recent call last)",
      "\u001b[0;32m<ipython-input-79-308e720524d2>\u001b[0m in \u001b[0;36m<module>\u001b[0;34m\u001b[0m\n\u001b[0;32m----> 1\u001b[0;31m \u001b[0mprevious_hash\u001b[0m\u001b[0;34m=\u001b[0m\u001b[0mhash_block\u001b[0m\u001b[0;34m(\u001b[0m\u001b[0mblock_chain\u001b[0m\u001b[0;34m[\u001b[0m\u001b[0;34m-\u001b[0m\u001b[0;36m1\u001b[0m\u001b[0;34m]\u001b[0m\u001b[0;34m)\u001b[0m\u001b[0;34m\u001b[0m\u001b[0;34m\u001b[0m\u001b[0m\n\u001b[0m\u001b[1;32m      2\u001b[0m \u001b[0mblock\u001b[0m\u001b[0;34m=\u001b[0m\u001b[0mBlock\u001b[0m\u001b[0;34m(\u001b[0m\u001b[0mtime\u001b[0m\u001b[0;34m(\u001b[0m\u001b[0;34m)\u001b[0m\u001b[0;34m,\u001b[0m \u001b[0mtuple\u001b[0m\u001b[0;34m(\u001b[0m\u001b[0mtransactions\u001b[0m\u001b[0;34m)\u001b[0m\u001b[0;34m,\u001b[0m \u001b[0mprevious_hash\u001b[0m\u001b[0;34m)\u001b[0m\u001b[0;34m\u001b[0m\u001b[0;34m\u001b[0m\u001b[0m\n",
      "\u001b[0;32m<ipython-input-73-b99959501b15>\u001b[0m in \u001b[0;36mhash_block\u001b[0;34m(block)\u001b[0m\n\u001b[1;32m      6\u001b[0m \u001b[0;34m\u001b[0m\u001b[0m\n\u001b[1;32m      7\u001b[0m \u001b[0;32mdef\u001b[0m \u001b[0mhash_block\u001b[0m\u001b[0;34m(\u001b[0m\u001b[0mblock\u001b[0m\u001b[0;34m:\u001b[0m \u001b[0mBlock\u001b[0m\u001b[0;34m)\u001b[0m\u001b[0;34m:\u001b[0m\u001b[0;34m\u001b[0m\u001b[0;34m\u001b[0m\u001b[0m\n\u001b[0;32m----> 8\u001b[0;31m     \u001b[0mblock_bytes\u001b[0m\u001b[0;34m=\u001b[0m\u001b[0mjson\u001b[0m\u001b[0;34m.\u001b[0m\u001b[0mdumps\u001b[0m\u001b[0;34m(\u001b[0m\u001b[0mblock\u001b[0m\u001b[0;34m)\u001b[0m\u001b[0;34m.\u001b[0m\u001b[0mencode\u001b[0m\u001b[0;34m(\u001b[0m\u001b[0;34m)\u001b[0m\u001b[0;34m\u001b[0m\u001b[0;34m\u001b[0m\u001b[0m\n\u001b[0m\u001b[1;32m      9\u001b[0m     \u001b[0;32mreturn\u001b[0m \u001b[0mhashlib\u001b[0m\u001b[0;34m.\u001b[0m\u001b[0msha256\u001b[0m\u001b[0;34m(\u001b[0m\u001b[0mblock_bytes\u001b[0m\u001b[0;34m)\u001b[0m\u001b[0;34m.\u001b[0m\u001b[0mhexdigest\u001b[0m\u001b[0;34m(\u001b[0m\u001b[0;34m)\u001b[0m\u001b[0;34m\u001b[0m\u001b[0;34m\u001b[0m\u001b[0m\n",
      "\u001b[0;32m~/my_path/envs/py37/lib/python3.7/json/__init__.py\u001b[0m in \u001b[0;36mdumps\u001b[0;34m(obj, skipkeys, ensure_ascii, check_circular, allow_nan, cls, indent, separators, default, sort_keys, **kw)\u001b[0m\n\u001b[1;32m    229\u001b[0m         \u001b[0mcls\u001b[0m \u001b[0;32mis\u001b[0m \u001b[0;32mNone\u001b[0m \u001b[0;32mand\u001b[0m \u001b[0mindent\u001b[0m \u001b[0;32mis\u001b[0m \u001b[0;32mNone\u001b[0m \u001b[0;32mand\u001b[0m \u001b[0mseparators\u001b[0m \u001b[0;32mis\u001b[0m \u001b[0;32mNone\u001b[0m \u001b[0;32mand\u001b[0m\u001b[0;34m\u001b[0m\u001b[0;34m\u001b[0m\u001b[0m\n\u001b[1;32m    230\u001b[0m         default is None and not sort_keys and not kw):\n\u001b[0;32m--> 231\u001b[0;31m         \u001b[0;32mreturn\u001b[0m \u001b[0m_default_encoder\u001b[0m\u001b[0;34m.\u001b[0m\u001b[0mencode\u001b[0m\u001b[0;34m(\u001b[0m\u001b[0mobj\u001b[0m\u001b[0;34m)\u001b[0m\u001b[0;34m\u001b[0m\u001b[0;34m\u001b[0m\u001b[0m\n\u001b[0m\u001b[1;32m    232\u001b[0m     \u001b[0;32mif\u001b[0m \u001b[0mcls\u001b[0m \u001b[0;32mis\u001b[0m \u001b[0;32mNone\u001b[0m\u001b[0;34m:\u001b[0m\u001b[0;34m\u001b[0m\u001b[0;34m\u001b[0m\u001b[0m\n\u001b[1;32m    233\u001b[0m         \u001b[0mcls\u001b[0m \u001b[0;34m=\u001b[0m \u001b[0mJSONEncoder\u001b[0m\u001b[0;34m\u001b[0m\u001b[0;34m\u001b[0m\u001b[0m\n",
      "\u001b[0;32m~/my_path/envs/py37/lib/python3.7/json/encoder.py\u001b[0m in \u001b[0;36mencode\u001b[0;34m(self, o)\u001b[0m\n\u001b[1;32m    197\u001b[0m         \u001b[0;31m# exceptions aren't as detailed.  The list call should be roughly\u001b[0m\u001b[0;34m\u001b[0m\u001b[0;34m\u001b[0m\u001b[0;34m\u001b[0m\u001b[0m\n\u001b[1;32m    198\u001b[0m         \u001b[0;31m# equivalent to the PySequence_Fast that ''.join() would do.\u001b[0m\u001b[0;34m\u001b[0m\u001b[0;34m\u001b[0m\u001b[0;34m\u001b[0m\u001b[0m\n\u001b[0;32m--> 199\u001b[0;31m         \u001b[0mchunks\u001b[0m \u001b[0;34m=\u001b[0m \u001b[0mself\u001b[0m\u001b[0;34m.\u001b[0m\u001b[0miterencode\u001b[0m\u001b[0;34m(\u001b[0m\u001b[0mo\u001b[0m\u001b[0;34m,\u001b[0m \u001b[0m_one_shot\u001b[0m\u001b[0;34m=\u001b[0m\u001b[0;32mTrue\u001b[0m\u001b[0;34m)\u001b[0m\u001b[0;34m\u001b[0m\u001b[0;34m\u001b[0m\u001b[0m\n\u001b[0m\u001b[1;32m    200\u001b[0m         \u001b[0;32mif\u001b[0m \u001b[0;32mnot\u001b[0m \u001b[0misinstance\u001b[0m\u001b[0;34m(\u001b[0m\u001b[0mchunks\u001b[0m\u001b[0;34m,\u001b[0m \u001b[0;34m(\u001b[0m\u001b[0mlist\u001b[0m\u001b[0;34m,\u001b[0m \u001b[0mtuple\u001b[0m\u001b[0;34m)\u001b[0m\u001b[0;34m)\u001b[0m\u001b[0;34m:\u001b[0m\u001b[0;34m\u001b[0m\u001b[0;34m\u001b[0m\u001b[0m\n\u001b[1;32m    201\u001b[0m             \u001b[0mchunks\u001b[0m \u001b[0;34m=\u001b[0m \u001b[0mlist\u001b[0m\u001b[0;34m(\u001b[0m\u001b[0mchunks\u001b[0m\u001b[0;34m)\u001b[0m\u001b[0;34m\u001b[0m\u001b[0;34m\u001b[0m\u001b[0m\n",
      "\u001b[0;32m~/my_path/envs/py37/lib/python3.7/json/encoder.py\u001b[0m in \u001b[0;36miterencode\u001b[0;34m(self, o, _one_shot)\u001b[0m\n\u001b[1;32m    255\u001b[0m                 \u001b[0mself\u001b[0m\u001b[0;34m.\u001b[0m\u001b[0mkey_separator\u001b[0m\u001b[0;34m,\u001b[0m \u001b[0mself\u001b[0m\u001b[0;34m.\u001b[0m\u001b[0mitem_separator\u001b[0m\u001b[0;34m,\u001b[0m \u001b[0mself\u001b[0m\u001b[0;34m.\u001b[0m\u001b[0msort_keys\u001b[0m\u001b[0;34m,\u001b[0m\u001b[0;34m\u001b[0m\u001b[0;34m\u001b[0m\u001b[0m\n\u001b[1;32m    256\u001b[0m                 self.skipkeys, _one_shot)\n\u001b[0;32m--> 257\u001b[0;31m         \u001b[0;32mreturn\u001b[0m \u001b[0m_iterencode\u001b[0m\u001b[0;34m(\u001b[0m\u001b[0mo\u001b[0m\u001b[0;34m,\u001b[0m \u001b[0;36m0\u001b[0m\u001b[0;34m)\u001b[0m\u001b[0;34m\u001b[0m\u001b[0;34m\u001b[0m\u001b[0m\n\u001b[0m\u001b[1;32m    258\u001b[0m \u001b[0;34m\u001b[0m\u001b[0m\n\u001b[1;32m    259\u001b[0m def _make_iterencode(markers, _default, _encoder, _indent, _floatstr,\n",
      "\u001b[0;32m~/my_path/envs/py37/lib/python3.7/json/encoder.py\u001b[0m in \u001b[0;36mdefault\u001b[0;34m(self, o)\u001b[0m\n\u001b[1;32m    177\u001b[0m \u001b[0;34m\u001b[0m\u001b[0m\n\u001b[1;32m    178\u001b[0m         \"\"\"\n\u001b[0;32m--> 179\u001b[0;31m         raise TypeError(f'Object of type {o.__class__.__name__} '\n\u001b[0m\u001b[1;32m    180\u001b[0m                         f'is not JSON serializable')\n\u001b[1;32m    181\u001b[0m \u001b[0;34m\u001b[0m\u001b[0m\n",
      "\u001b[0;31mTypeError\u001b[0m: Object of type Block is not JSON serializable"
     ]
    }
   ],
   "source": [
    "previous_hash=hash_block(block_chain[-1])\n",
    "block=Block(time(), tuple(transactions), previous_hash)"
   ]
  },
  {
   "cell_type": "markdown",
   "metadata": {},
   "source": [
    "- block chainへの登録"
   ]
  },
  {
   "cell_type": "code",
   "execution_count": 25,
   "metadata": {},
   "outputs": [
    {
     "data": {
      "text/plain": [
       "True"
      ]
     },
     "execution_count": 25,
     "metadata": {},
     "output_type": "execute_result"
    }
   ],
   "source": [
    "verify_block(block_chain[-1], block)"
   ]
  },
  {
   "cell_type": "code",
   "execution_count": 26,
   "metadata": {},
   "outputs": [],
   "source": [
    "block_chain.append(block)"
   ]
  },
  {
   "cell_type": "markdown",
   "metadata": {},
   "source": [
    "- 2回目は登録に失敗する"
   ]
  },
  {
   "cell_type": "code",
   "execution_count": 27,
   "metadata": {},
   "outputs": [
    {
     "data": {
      "text/plain": [
       "False"
      ]
     },
     "execution_count": 27,
     "metadata": {},
     "output_type": "execute_result"
    }
   ],
   "source": [
    "verify_block(block_chain[-1], block)"
   ]
  },
  {
   "cell_type": "markdown",
   "metadata": {},
   "source": [
    "- timestampサーバを第三者に任せない方法がほしい\n",
    "- そもそもBlockの生成はだれがやるのか?"
   ]
  },
  {
   "cell_type": "markdown",
   "metadata": {},
   "source": [
    "# Proof-of-Workの実装\n",
    "- これがblockchainの革新的技術\n",
    "- block chainの正当性をtrust依存にするのではなく，cryptograph proofに基づくものにする\n",
    "    - chainの暗号学的強度を高める\n",
    "    - 同時にどのchainが\"正しい\"のか，決定するアルゴリズムも与える\n",
    "- blockの生成を\"コストの高い作業\"することによって強度を高める\n",
    "    - この作業によって生成された値`nonce`はblockの正当性証明となる\n",
    "    - blockは1つ前のhashも持っているから，chainの途中のblockを改ざんするには，そこから先すべてのblockを改ざんする必要がある\n",
    "    - blockの生成は計算コストが非常に高いから，chainの改ざんは莫大なコストを要することになる\n",
    "- 最も長いchainを\"正しい\"chainとする\n",
    "    - 最も長いchainは，もっとも多くの計算資源を投入していることになる\n",
    "    - これはone-CPU-one-voteとみなせる"
   ]
  },
  {
   "cell_type": "markdown",
   "metadata": {},
   "source": [
    "## blockにnonceを加える\n",
    "- blockのハッシュ値が適当な条件を満たすように`nonce`を追加する\n",
    "    - 例えば上4桁が0\n",
    "    - この制約を\"difficulty\"と呼ぶ\n",
    "    - difficultyは適当に調整される. 例えばbitcoinの場合は，blockの追加のintervalが10分程度になるように調整されるようだ\n",
    "        - [Difficulty \\- Bitcoin Wiki](https://en.bitcoin.it/wiki/Difficulty)\n",
    "    - 今回はdifficultyは固定にする\n",
    "- nonceを見つける作業が\"mine\"\n",
    "    - nonceが正しいことを確認するのは簡単\n",
    "    - nonceを見つけるのは難しい(総当たりで試して，あたりを引くしかない)\n",
    "    - これによって\"block\"の生成を非常に高コストにすることができる\n",
    "    - と同時に，正当性の確認にもなる\n",
    "- \"mine\"は第三者が行う"
   ]
  },
  {
   "cell_type": "code",
   "execution_count": 28,
   "metadata": {},
   "outputs": [],
   "source": [
    "class Block(NamedTuple):\n",
    "    time: float\n",
    "    transactions: Tuple[Transaction]\n",
    "    previous_hash: str\n",
    "    nonce: int = None"
   ]
  },
  {
   "cell_type": "markdown",
   "metadata": {},
   "source": [
    "## mineの実装"
   ]
  },
  {
   "cell_type": "code",
   "execution_count": 29,
   "metadata": {},
   "outputs": [],
   "source": [
    "difficulty=4\n",
    "def valid_proof(block):\n",
    "    return hash_block(block)[:difficulty] == \"0\" * difficulty\n",
    "\n",
    "def mine(block):\n",
    "    nonce=0\n",
    "    block=block._replace(nonce=nonce)\n",
    "    while not valid_proof(block):\n",
    "        nonce += 1\n",
    "        block=block._replace(nonce=nonce)\n",
    "    return block"
   ]
  },
  {
   "cell_type": "markdown",
   "metadata": {},
   "source": [
    "- ついでにverify_blockも改良"
   ]
  },
  {
   "cell_type": "code",
   "execution_count": 30,
   "metadata": {},
   "outputs": [],
   "source": [
    "def verify_block(previous_block, block) -> bool:\n",
    "    is_correct_hash = hash_block(previous_block) ==  block.previous_hash\n",
    "    is_correct_transactions = all(map(verify_transaction, block.transactions))\n",
    "    is_correct_proof = valid_proof(block)\n",
    "    return is_correct_hash and is_correct_transactions and is_correct_proof"
   ]
  },
  {
   "cell_type": "markdown",
   "metadata": {},
   "source": [
    "## Demo4: tranasctionの発行からminingまで"
   ]
  },
  {
   "cell_type": "code",
   "execution_count": 31,
   "metadata": {},
   "outputs": [],
   "source": [
    "genesis=Block(time(), (), \"0\")\n",
    "block_chain=BlockChain(genesis)\n",
    "\n",
    "# 取引\n",
    "transactions=[]\n",
    "transactions.append(alice.sign_transaction(Transaction(alice.address, bob.address, 5)))\n",
    "transactions.append(bob.sign_transaction(Transaction(bob.address, alice.address, 10)))"
   ]
  },
  {
   "cell_type": "markdown",
   "metadata": {},
   "source": [
    "- mine"
   ]
  },
  {
   "cell_type": "code",
   "execution_count": 32,
   "metadata": {},
   "outputs": [],
   "source": [
    "previous_hash=hash_block(block_chain[-1])\n",
    "block=mine(Block(time(), tuple(transactions), previous_hash))"
   ]
  },
  {
   "cell_type": "code",
   "execution_count": 33,
   "metadata": {},
   "outputs": [
    {
     "data": {
      "text/plain": [
       "99021"
      ]
     },
     "execution_count": 33,
     "metadata": {},
     "output_type": "execute_result"
    }
   ],
   "source": [
    "block.nonce"
   ]
  },
  {
   "cell_type": "code",
   "execution_count": 34,
   "metadata": {},
   "outputs": [
    {
     "data": {
      "text/plain": [
       "True"
      ]
     },
     "execution_count": 34,
     "metadata": {},
     "output_type": "execute_result"
    }
   ],
   "source": [
    "verify_block(block_chain[-1], block)"
   ]
  },
  {
   "cell_type": "markdown",
   "metadata": {},
   "source": [
    "# NodeとNetwork\n",
    "- 前回までで分散台帳の準備は整った\n",
    "- 具体的にblockchainを保持する`node`を実装する\n",
    "- 具体的なnetworkの動きは以下のようになる ([@Nakamoto2018](www.bitcoin.org))"
   ]
  },
  {
   "cell_type": "markdown",
   "metadata": {},
   "source": [
    "1. transaction生成．なるべく多くのnodeにbroadcastする\n",
    "2. nodeはtransactionを集めてblockにまとめる\n",
    "3. mine\n",
    "4. mineが終わったら，他のnodeにblockをbroadcastする\n",
    "5. blockを受け取ったnodeは，blockの正当性を確認し，double-spendingのチェックをする\n",
    "6. チェックが通れば，次のblockの作成を始める"
   ]
  },
  {
   "cell_type": "markdown",
   "metadata": {},
   "source": [
    "- ついでにいままでのいろいろなmethodをまとめる\n",
    "- 今回はbroadcastはmultiprocessのサーバープロセスを用いて模擬する\n",
    "- データのやり取りはすべてjson"
   ]
  },
  {
   "cell_type": "code",
   "execution_count": 35,
   "metadata": {},
   "outputs": [],
   "source": [
    "from uuid import uuid4\n",
    "from copy import deepcopy\n",
    "import multiprocessing as mp"
   ]
  },
  {
   "cell_type": "code",
   "execution_count": 36,
   "metadata": {},
   "outputs": [],
   "source": [
    "class Network:\n",
    "    def __init__(self):\n",
    "        self.manager=mp.Manager()\n",
    "        self.chains=self.manager.dict()\n",
    "        self.blocks=self.manager.dict()\n",
    "        self.transactions=self.manager.dict()\n",
    "        \n",
    "    def add_node(self, uuid, chain=()):\n",
    "        self.chains[uuid]=chain\n",
    "        self.blocks[uuid]=self.manager.list()\n",
    "        self.transactions[uuid]=self.manager.list()\n",
    "    \n",
    "    def post_chain(self, uuid, chain):\n",
    "        self.chains[uuid]=tuple(chain)\n",
    "    \n",
    "    def get_chain(sef, uuid):\n",
    "        return self.chains[uuid]\n",
    "    \n",
    "    def post_block(self, block):\n",
    "        for k, v in self.blocks.items():\n",
    "            v.append(block)\n",
    "            \n",
    "    def get_blocks(self, uuid):\n",
    "        l=list(self.blocks[uuid])\n",
    "        self.blocks[uuid][:]=[]\n",
    "        return l\n",
    "    \n",
    "    def post_transaction(self, transaction):\n",
    "        for k, v in self.transactions.items():\n",
    "            v.append(transaction)\n",
    "            \n",
    "    def get_blocks(self, uuid):\n",
    "        l=list(self.transactions[uuid])\n",
    "        self.transactions[uuid][:]=[]\n",
    "        return l\n",
    "    \n",
    "    def shutdown(self):\n",
    "        self.manager.shutdown()"
   ]
  },
  {
   "cell_type": "code",
   "execution_count": 37,
   "metadata": {},
   "outputs": [],
   "source": [
    "def encode_transction(transaction):\n",
    "    return json.dumps(transction)\n",
    "def decode_transaction(transaction_json):\n",
    "    return Transaction(*json.loads(transaction_json))\n",
    "\n",
    "def encode_block(block):\n",
    "    return json.dumps(block)\n",
    "def decode_block(block_json):\n",
    "    block=Block(*json.loads(block_json))\n",
    "    return block._replace(transactions=tuple(map(lambda x: Transaction(*x), block.transactions)))\n",
    "\n",
    "def encode_chain(chain):\n",
    "    return json.dumps(chain)\n",
    "def decode_chain(chain_json):\n",
    "    return [decode_block(json.dumps(Block(*l))) for l in json.loads(chain_json)]"
   ]
  },
  {
   "cell_type": "code",
   "execution_count": 38,
   "metadata": {},
   "outputs": [],
   "source": [
    "class Node:\n",
    "    def __init__(self, network):\n",
    "        self.chain=[]\n",
    "        self.uuid=str(uuid4())\n",
    "        self.network=network\n",
    "        network.add_node(self.uuid)\n",
    "        \n",
    "    @staticmethod\n",
    "    def hash_block(block): \n",
    "        block_bytes=json.dumps(block).encode()\n",
    "        return hashlib.sha256(block_bytes).hexdigest()\n",
    "        \n",
    "    @staticmethod\n",
    "    def valid_proof(block):\n",
    "        return self.hash_block(block)[:difficulty] == \"0\" * difficulty\n",
    "\n",
    "    def mine(self):\n",
    "        transactions=self.network.transactions[self.uuid]\n",
    "        if len(transactions)==0:\n",
    "            return False # cannot mine due to no transactions\n",
    "        previous_hash=self.hash_block(self.chain[-1])\n",
    "        block=Block(time(), tuple(broadcasted_transactions), previous_hash)\n",
    "        \n",
    "        nonce=0\n",
    "        block=block._replace(nonce=nonce)\n",
    "        while not valid_proof(block):\n",
    "            nonce += 1\n",
    "            block=block._replace(nonce=nonce)\n",
    "        self.broadcast_block(block)\n",
    "        return True # successfully mined\n",
    "        \n",
    "    def add_block(self):\n",
    "        for block in broadcasted_blocks:\n",
    "            if verify_block(block):\n",
    "                self.chain.append(block)\n",
    "                return True \n",
    "        return False # no block is added\n",
    "    \n",
    "    def broad_cast(self):\n",
    "        broadcasted_blocks.append(self.chain[-1])\n",
    "    \n",
    "    def publish_chain(self):\n",
    "        chains[self.uuid]=self.chain\n",
    "        \n",
    "        \n",
    "    @staticmethod\n",
    "    def verify_transaction(transaction):\n",
    "        if transaction.sign is None:\n",
    "            return False\n",
    "        h=SHA.new(transaction.str_data().encode())\n",
    "        verifier=PKCS1_v1_5.new(encode_key(transaction.sender_address))\n",
    "        return verifier.verify(h, binascii.unhexlify(transaction.sign))\n",
    "    \n",
    "    @staticmethod\n",
    "    def verify_block(block) -> bool:\n",
    "        previous_block=self.chain[-1]\n",
    "        is_correct_hash = self.hash_block(previous_block) ==  block.previous_hash\n",
    "        is_correct_transactions = all(map(self.verify_transaction, block.transactions))\n",
    "        is_correct_proof = self.valid_proof(block)\n",
    "        return is_correct_hash and is_correct_transactions and is_correct_proof\n",
    "    \n",
    "    @staticmethod\n",
    "    def valid_chain(chain):\n",
    "        for i in range(len(chain)-1, -1, -1):\n",
    "            if not chain.valid_block(chain[i]):\n",
    "                return False\n",
    "            if i > 0 and chain[i-1].hash != chain[i].previous_hash:\n",
    "                return False\n",
    "        return True\n",
    "    \n",
    "    def resolve_conflicts(self):\n",
    "        \"\"\"Longest valid chain is authoritative\"\"\"\n",
    "        authoritative_chain=self.chain\n",
    "        for node_id in self.neighbours:\n",
    "            node=nodes[node_id]\n",
    "            if not self.valid_chain(node.chain):\n",
    "                # node is incorrect\n",
    "                continue\n",
    "            if len(node.chain)>len(authoritative_chain):\n",
    "                # Longest valid chain is authoritative\n",
    "                authoritative_chain=deepcopy(node.chain)\n",
    "        self.chain=authoritative_chain"
   ]
  }
 ],
 "metadata": {
  "kernelspec": {
   "display_name": "py37",
   "language": "python",
   "name": "py37"
  },
  "language_info": {
   "codemirror_mode": {
    "name": "ipython",
    "version": 3
   },
   "file_extension": ".py",
   "mimetype": "text/x-python",
   "name": "python",
   "nbconvert_exporter": "python",
   "pygments_lexer": "ipython3",
   "version": "3.7.1"
  }
 },
 "nbformat": 4,
 "nbformat_minor": 2
}
