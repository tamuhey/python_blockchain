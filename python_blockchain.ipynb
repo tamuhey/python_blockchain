{
 "cells": [
  {
   "cell_type": "markdown",
   "metadata": {},
   "source": [
    "# PythonでBlockchainの実装\n",
    "- [Bitcoin論文](https://bitcoin.org/bitcoin.pdf)をもとにblockchainの実装をする\n",
    "    - 天下り的にならないよう，徐々にシステムをパワーアップさせていく方針で作る\n",
    "- 目標はシンプルなコンセンサスアルゴリズムの実装まで行い，ノード同士が競ってマイニングする様子を眺めること\n",
    "    - 完成形はこんな感じ\n",
    "    \n",
    "    <img src=\"./demo.gif\" width=50%>"
   ]
  },
  {
   "cell_type": "markdown",
   "metadata": {},
   "source": [
    "# 信用のある第三者を介する取引\n",
    "- まずは第三者を介した取引をシミュレーションしてみる\n",
    "- 第三者は取引の公正さのすべてを請け負う"
   ]
  },
  {
   "cell_type": "markdown",
   "metadata": {},
   "source": [
    "## 取引はどのように行うか? - Transactionの実装\n",
    "- 取引記録を発行することで，取引を行う\n",
    "    - Python3.7から実装された[dataclasses](https://docs.python.org/ja/3/library/dataclasses.html#)を使ってみる"
   ]
  },
  {
   "cell_type": "code",
   "execution_count": 1,
   "metadata": {},
   "outputs": [],
   "source": [
    "from __future__ import annotations\n",
    "from dataclasses import dataclass"
   ]
  },
  {
   "cell_type": "markdown",
   "metadata": {},
   "source": [
    "- 個人の識別を`address`で行う\n",
    "- 取引額を`value`とする"
   ]
  },
  {
   "cell_type": "code",
   "execution_count": 2,
   "metadata": {},
   "outputs": [],
   "source": [
    "@dataclass\n",
    "class Transaction:\n",
    "    sender_address: int\n",
    "    receiver_address: int\n",
    "    value: float "
   ]
  },
  {
   "cell_type": "markdown",
   "metadata": {},
   "source": [
    "- senderはTransactionを発行して取引を行う"
   ]
  },
  {
   "cell_type": "markdown",
   "metadata": {},
   "source": [
    "## Walletの実装\n",
    "- とりあえず，Walletは適当な1つの`int`をaddressとして持つことにする\n",
    "- Transactionを発行する機能をもたせる\n",
    "    - `send` methodで取引記録を作成できる"
   ]
  },
  {
   "cell_type": "code",
   "execution_count": 4,
   "metadata": {},
   "outputs": [],
   "source": [
    "@dataclass\n",
    "class Wallet:\n",
    "    address: int\n",
    "    def send(self, receiver_address, value):\n",
    "        return Transaction(self.address, receiver_address, value)"
   ]
  },
  {
   "cell_type": "markdown",
   "metadata": {},
   "source": [
    "## Ledgerの実装\n",
    "- transactionは信用のある第三者(Bankと呼ぶことにする)に提出されることで成立する\n",
    "    - BankはTransactionを元帳(Ledger)で管理する\n",
    "    - Bankが全てのTransactionを管理し，精査することで不正を防止する\n",
    "- Ledgerはとりあえず単なるリストにする"
   ]
  },
  {
   "cell_type": "code",
   "execution_count": 5,
   "metadata": {},
   "outputs": [],
   "source": [
    "Ledger=list"
   ]
  },
  {
   "cell_type": "markdown",
   "metadata": {},
   "source": [
    "## デモ: シンプルな取引\n",
    "- AliceとBobが取引する様子をデモする"
   ]
  },
  {
   "cell_type": "code",
   "execution_count": 6,
   "metadata": {},
   "outputs": [],
   "source": [
    "alice=Wallet(1) # create Alice's wallet\n",
    "bob=Wallet(2)   # create Bob's wallet\n",
    "ledger=Ledger() # create Bank's ledger"
   ]
  },
  {
   "cell_type": "markdown",
   "metadata": {},
   "source": [
    "- Aliceがtransactionを発行してBankに登録することで，取引が成立する"
   ]
  },
  {
   "cell_type": "code",
   "execution_count": 7,
   "metadata": {},
   "outputs": [],
   "source": [
    "transaction=alice.send(bob.address, 5) # Alice send `5` to Bob\n",
    "ledger.append(transaction)"
   ]
  },
  {
   "cell_type": "markdown",
   "metadata": {},
   "source": [
    "- ここで例えば，第三者の信頼度がちょっと落ちたとする\n",
    "    - 取引内容の改ざんはどのように防げばよいだろうか?"
   ]
  },
  {
   "cell_type": "markdown",
   "metadata": {},
   "source": [
    "# 電子署名を用いたtransactionの発行\n",
    "- senderはtransactionに電子署名を行う\n",
    "    - 今回はRSAを用いることにする\n",
    "        - BitCoinは[ECDSA](https://en.bitcoin.it/wiki/Transaction#Input)を用いている\n",
    "    - これによってtransactionの改ざんを検知することができる\n",
    "- 電子署名の公開鍵はどのように扱う?\n",
    "    - 公開鍵をWalletのaddressとする!"
   ]
  },
  {
   "cell_type": "markdown",
   "metadata": {},
   "source": [
    "## Transactionの改良 - 電子署名フィールドの追加\n",
    "- 電子署名できるようにする\n",
    "    - `sign`を追加\n",
    "    - 署名の際，transactionをstrで表すための`str_data` methodも追加\n",
    "- ついでにデータをjson stringに変換するmethodを追加する\n",
    "    - これは後々データのやり取りを簡単にするため"
   ]
  },
  {
   "cell_type": "code",
   "execution_count": 8,
   "metadata": {},
   "outputs": [],
   "source": [
    "import json\n",
    "import dataclasses as dc"
   ]
  },
  {
   "cell_type": "code",
   "execution_count": 9,
   "metadata": {},
   "outputs": [],
   "source": [
    "@dataclass\n",
    "class Transaction:\n",
    "    sender_address: str\n",
    "    receiver_address: str\n",
    "    value: float\n",
    "    sign: str = None\n",
    "        \n",
    "    def str_data(self) -> str:\n",
    "        # return the str of data without `sign`\n",
    "        d=dc.asdict(self)\n",
    "        del d[\"sign\"]\n",
    "        return json.dumps(d)\n",
    "    \n",
    "    def json_dumps(self) -> str:\n",
    "        return json.dumps(dc.asdict(self))\n",
    "    @classmethod\n",
    "    def json_loads(cls, string) -> Transaction:\n",
    "        return cls(**json.loads(string))"
   ]
  },
  {
   "cell_type": "markdown",
   "metadata": {},
   "source": [
    "## Walletの改良 - 電子署名機能の追加\n",
    "- RSAによる電子署名機能を実装する\n",
    "    - pycryptoを用いる\n",
    "        - 使い方はこれを参照 ([python \\- Signing and verifying data using pycrypto \\(RSA\\) \\- Stack Overflow](https://stackoverflow.com/questions/4232389/signing-and-verifying-data-using-pycrypto-rsa))\n",
    "- 引き続きWalletはaddressを1つのみ持つことにする\n",
    "    - 例えばBitCoinでは匿名性の向上のため，一つのWalletは複数のキーペアを持つことができる ([参考](https://en.bitcoin.it/wiki/Transaction))"
   ]
  },
  {
   "cell_type": "code",
   "execution_count": 10,
   "metadata": {},
   "outputs": [],
   "source": [
    "from Crypto.Signature import PKCS1_v1_5\n",
    "from Crypto.Hash import SHA\n",
    "from Crypto.PublicKey import RSA\n",
    "import binascii"
   ]
  },
  {
   "cell_type": "markdown",
   "metadata": {},
   "source": [
    "- pycryptoのkey instanceをstrに変換するhelper functionを実装する\n",
    "    - strにしておく理由は後ほどわかる"
   ]
  },
  {
   "cell_type": "code",
   "execution_count": 11,
   "metadata": {},
   "outputs": [],
   "source": [
    "def decode_key(key):\n",
    "    if isinstance(key, str):\n",
    "        return key\n",
    "    return binascii.hexlify(key.exportKey(format='DER')).decode('ascii')\n",
    "def encode_key(key):\n",
    "    if isinstance(key, RSA._RSAobj):\n",
    "        return key\n",
    "    return RSA.importKey(binascii.unhexlify(key))"
   ]
  },
  {
   "cell_type": "markdown",
   "metadata": {},
   "source": [
    "Walletの改良"
   ]
  },
  {
   "cell_type": "code",
   "execution_count": 12,
   "metadata": {},
   "outputs": [],
   "source": [
    "class Wallet:\n",
    "    def __init__(self):\n",
    "        key=RSA.generate(1024)\n",
    "        self.private_key = decode_key(key)\n",
    "        self.address = decode_key(key.publickey())\n",
    "    \n",
    "    def sign_transaction(self, transaction) -> Transaction:\n",
    "        # generate signer from self private key\n",
    "        signer=PKCS1_v1_5.new(encode_key(self.private_key))\n",
    "        # hash the transaction\n",
    "        h=SHA.new(transaction.str_data().encode())\n",
    "        # add signature to the transaction, and return it\n",
    "        return dc.replace(transaction, sign=signer.sign(h).hex())\n",
    "    \n",
    "    def send(self, receiver_address, value) -> Transaction:\n",
    "        \"\"\"Generate transaction, and add signature\"\"\"\n",
    "        transaction=Transaction(self.address, receiver_address, value)\n",
    "        return self.sign_transaction(transaction)"
   ]
  },
  {
   "cell_type": "markdown",
   "metadata": {},
   "source": [
    "- 秘密鍵`private_key`の追加 \n",
    "- addressは対応する公開鍵とする\n",
    "- `sign_transaction`の追加\n",
    "    - transactionを受け取り，電子署名付きtransactionを返す\n",
    "- `send`を変更\n",
    "    - 電子署名付きtransactionを生成できるようになった!"
   ]
  },
  {
   "cell_type": "markdown",
   "metadata": {},
   "source": [
    "つぎに，transactionの電子署名をチェックするhelper functionを作る\n",
    "- signatureのpublic keyはtransactionのaddressなので，transactionを見れば電子署名の正当性を判別できる"
   ]
  },
  {
   "cell_type": "code",
   "execution_count": 13,
   "metadata": {},
   "outputs": [],
   "source": [
    "def verify_transaction(transaction) -> bool:\n",
    "    if transaction.sign is None:\n",
    "        return False\n",
    "    # hash the transaction\n",
    "    h=SHA.new(transaction.str_data().encode())\n",
    "    # generate verifier with public key\n",
    "    verifier=PKCS1_v1_5.new(encode_key(transaction.sender_address))\n",
    "    # is the signature correct?\n",
    "    return verifier.verify(h, binascii.unhexlify(transaction.sign))"
   ]
  },
  {
   "cell_type": "markdown",
   "metadata": {},
   "source": [
    "## デモ: RSAを用いたtransactionの発行とチェック\n",
    "先ほどと同じようにデモをしてみる"
   ]
  },
  {
   "cell_type": "code",
   "execution_count": 14,
   "metadata": {},
   "outputs": [],
   "source": [
    "alice=Wallet() # now the address is automatically generated\n",
    "bob=Wallet()\n",
    "ledger=Ledger()"
   ]
  },
  {
   "cell_type": "markdown",
   "metadata": {},
   "source": [
    "- transactionを発行し，電子署名を行い，bankに提出する"
   ]
  },
  {
   "cell_type": "code",
   "execution_count": 15,
   "metadata": {},
   "outputs": [],
   "source": [
    "transaction=alice.send(bob.address, 5)\n",
    "# Bank append the transaction to its ledger\n",
    "ledger.append(transaction)"
   ]
  },
  {
   "cell_type": "markdown",
   "metadata": {},
   "source": [
    "- transactionの電子署名を確認してみる"
   ]
  },
  {
   "cell_type": "code",
   "execution_count": 16,
   "metadata": {},
   "outputs": [
    {
     "data": {
      "text/plain": [
       "True"
      ]
     },
     "execution_count": 16,
     "metadata": {},
     "output_type": "execute_result"
    }
   ],
   "source": [
    "verify_transaction(transaction)"
   ]
  },
  {
   "cell_type": "markdown",
   "metadata": {},
   "source": [
    "- データをちょと変えてみると，不正なtransactionになるのがわかる"
   ]
  },
  {
   "cell_type": "code",
   "execution_count": 17,
   "metadata": {},
   "outputs": [
    {
     "data": {
      "text/plain": [
       "False"
      ]
     },
     "execution_count": 17,
     "metadata": {},
     "output_type": "execute_result"
    }
   ],
   "source": [
    "transaction.value=7\n",
    "verify_transaction(transaction)"
   ]
  },
  {
   "cell_type": "markdown",
   "metadata": {},
   "source": [
    "- transactionの改竄リスクを低減することができた \n",
    "    - しかし依然として，**double-spending problem** を防ぐには信頼のある第三者が必要となる\n",
    "    - これはデータで通貨を作る際の最も大きな障害だった(データは簡単にコピーできるから)\n",
    "- すべてのtransactionが公開されていれば，double-spendingは防げるのでは？\n",
    "    - 公開されていればreceiverも記録をチェックできる"
   ]
  },
  {
   "cell_type": "markdown",
   "metadata": {},
   "source": [
    "# Timestamp Server によるTransactionの公開\n",
    "- いくつかのtransactionをまとめて，timestampをつけ，**block**で公開することを考える\n",
    "    - 信頼のある**timestamp server**がtransactionをまとめてtimestampをつけ，電子署名をして公開する\n",
    "    - ある特定の時刻にそのtransactionが存在したことが保証される\n",
    "- さらに，blockには直前のtimestampのhashを含め，**blockchain**を作る\n",
    "    - blockを改ざんすると，以降のblockは全て不正なものとなる\n",
    "- これでtransactionをチェックしてdouble-spendingを防ぐ第三者は必要なくなった\n",
    "    - transactionは公開されているから，誰でも検証することができる"
   ]
  },
  {
   "cell_type": "markdown",
   "metadata": {},
   "source": [
    "## Blockの実装\n",
    "- strで表現できるよう，json methodを追加する\n",
    "- ついでにhash methodも実装する"
   ]
  },
  {
   "cell_type": "code",
   "execution_count": 18,
   "metadata": {},
   "outputs": [],
   "source": [
    "from typing import Tuple, Sequence\n",
    "import hashlib"
   ]
  },
  {
   "cell_type": "code",
   "execution_count": 59,
   "metadata": {},
   "outputs": [],
   "source": [
    "@dataclass\n",
    "class Block:\n",
    "    time: float\n",
    "    transactions: Tuple[Transaction]\n",
    "    previous_hash: str\n",
    "    sign: str = None\n",
    "        \n",
    "    def json_dumps(self) -> str:\n",
    "        dct=dc.asdict(self)\n",
    "        dct[\"transactions\"]=[t.json_dumps() for t in self.transactions]\n",
    "        return json.dumps(dct)\n",
    "    @classmethod\n",
    "    def json_loads(cls, string) -> Block:\n",
    "        dct=json.loads(string)\n",
    "        dct[\"transactions\"]=tuple([Transaction.json_loads(t) for t in dct[\"transactions\"]])\n",
    "        return cls(**dct)\n",
    "        \n",
    "    def hash(self) -> str: \n",
    "        block_bytes=self.json_dumps().encode()\n",
    "        return hashlib.sha256(block_bytes).hexdigest()"
   ]
  },
  {
   "cell_type": "markdown",
   "metadata": {},
   "source": [
    "## Timestamp Serverの実装\n",
    "- timestamp serverは以下の流れで**blockchain**を作る\n",
    "    1. transactionのリストを受け取る\n",
    "    2. 一つ前のblockのhashとtimestampをつけてBlockにまとめる\n",
    "    3. **電子署名**をする\n",
    "    4. 公開する"
   ]
  },
  {
   "cell_type": "markdown",
   "metadata": {},
   "source": [
    "- blockの正当性の保証はtimestamp serverの**電子署名**で行う\n",
    "    - serverに RSA キーペアをもたせる\n",
    "- 最初のblockはprevious blockがないため，特別なブロック(**genesis**)を用意する ([参考](https://en.bitcoin.it/wiki/Genesis_block))\n",
    "- blockchainは今回はただのリストにする"
   ]
  },
  {
   "cell_type": "code",
   "execution_count": 60,
   "metadata": {},
   "outputs": [],
   "source": [
    "from time import time"
   ]
  },
  {
   "cell_type": "code",
   "execution_count": null,
   "metadata": {},
   "outputs": [],
   "source": [
    "class TimestampServer:\n",
    "    def __init__(self):\n",
    "        key=RSA.generate(1024)\n",
    "        self.public_key=key.publickey()\n",
    "        self.signer=PKCS1_v1_5.new(key)\n",
    "        \n",
    "        genesis=Block(time(), (), \"0\")\n",
    "        self.block_chain=[genesis]\n",
    "        \n",
    "    def generate_block(self, transactions: Sequence[Transaction]):\n",
    "        # generate block\n",
    "        block=Block(time(), tuple(transactions), self.block_chain[-1].hash())\n",
    "        \n",
    "        # sign the block\n",
    "        dct=dc.asdict(block)\n",
    "        del dct[\"sign\"]\n",
    "        block.sign=self.signer.sign(SHA.new(json.dumps(dct).encode())).hex()\n",
    "        \n",
    "        # publish the block\n",
    "        self.block_chain.append(block)"
   ]
  },
  {
   "cell_type": "markdown",
   "metadata": {},
   "source": [
    "## blockchainの正当性確認\n",
    "- blockchainの正当性を確認するhelper functionを用意する\n",
    "    1. blockの持つ**previous_hash**は正しいか?\n",
    "    2. blockに入っているtransactionは正当か?\n",
    "    3. timestamp serverがつけた電子署名は正当か?"
   ]
  },
  {
   "cell_type": "markdown",
   "metadata": {},
   "source": [
    "- blockの正当性確認"
   ]
  },
  {
   "cell_type": "code",
   "execution_count": 22,
   "metadata": {},
   "outputs": [],
   "source": [
    "def verify_block(previous_block, block, timestamp_server_publickey) -> bool:\n",
    "    is_correct_hash = previous_block.hash() ==  block.previous_hash\n",
    "    is_correct_transactions = all(map(verify_transaction, block.transactions))\n",
    "    \n",
    "    dct=dc.asdict(block)\n",
    "    del dct[\"sign\"]\n",
    "    h=SHA.new(json.dumps(dct).encode())\n",
    "    verifier=PKCS1_v1_5.new(timestamp_server_publickey)\n",
    "    is_correct_sign=verifier.verify(h, binascii.unhexlify(block.sign))\n",
    "    return is_correct_hash and is_correct_transactions and is_correct_sign"
   ]
  },
  {
   "cell_type": "markdown",
   "metadata": {},
   "source": [
    "- blockchainの正当性確認"
   ]
  },
  {
   "cell_type": "code",
   "execution_count": 23,
   "metadata": {},
   "outputs": [],
   "source": [
    "def verify_blockchain(chain, timestamp_server_publickey):\n",
    "    for i in range(len(chain)-1):\n",
    "        if not verify_block(chain[-i-2],chain[-i-1],timestamp_server_publickey):\n",
    "            return False\n",
    "    return True"
   ]
  },
  {
   "cell_type": "markdown",
   "metadata": {},
   "source": [
    "## デモ: Timestamp server による Blockの公開とBlockChainへの登録\n",
    "- timestamp serverをつくる"
   ]
  },
  {
   "cell_type": "code",
   "execution_count": 24,
   "metadata": {},
   "outputs": [],
   "source": [
    "timestamp_server=TimestampServer()"
   ]
  },
  {
   "cell_type": "markdown",
   "metadata": {},
   "source": [
    "- 取引を複数回行う"
   ]
  },
  {
   "cell_type": "code",
   "execution_count": 25,
   "metadata": {},
   "outputs": [],
   "source": [
    "transactions=[]\n",
    "transactions.append(alice.send(bob.address, 5))\n",
    "transactions.append(bob.send(alice.address, 7))"
   ]
  },
  {
   "cell_type": "markdown",
   "metadata": {},
   "source": [
    "- Timestamp serverによるBlockの生成と公開\n",
    "    - timestamp_serverのblockchainは**誰でも見ることができる**"
   ]
  },
  {
   "cell_type": "code",
   "execution_count": 26,
   "metadata": {},
   "outputs": [],
   "source": [
    "timestamp_server.generate_block(transactions)"
   ]
  },
  {
   "cell_type": "markdown",
   "metadata": {},
   "source": [
    "- 正当性確認"
   ]
  },
  {
   "cell_type": "code",
   "execution_count": 27,
   "metadata": {},
   "outputs": [
    {
     "data": {
      "text/plain": [
       "True"
      ]
     },
     "execution_count": 27,
     "metadata": {},
     "output_type": "execute_result"
    }
   ],
   "source": [
    "verify_blockchain(timestamp_server.block_chain, timestamp_server.public_key)"
   ]
  },
  {
   "cell_type": "markdown",
   "metadata": {},
   "source": [
    "- これでtransactionのチェックをすべての人が行えるようになった\n",
    "- しかし，transactionを検証する第三者は必要なくなったが，今度は信頼のあるtimestamp serverが必要になってしまった\n",
    "- **timestamp serverを第三者に任せない方法がほしい!**"
   ]
  },
  {
   "cell_type": "markdown",
   "metadata": {},
   "source": [
    "# Proof-of-Workの実装\n",
    "- これがblockchainの革新的要素\n",
    "- 先程は\"信頼の置ける\" timestamp serverの電子署名が，Blockの正当性を保証していた\n",
    "- では誰でも同じ署名ができれば，誰でもtimestamp serverの仕事ができるのでは?\n",
    "    - 電子署名でやると，当然ブロックの正当性の証明にはならない..\n",
    "- **[HashCash](https://en.bitcoin.it/wiki/Hashcash)**を用いる"
   ]
  },
  {
   "cell_type": "markdown",
   "metadata": {},
   "source": [
    "## Blockにnonceを加える\n",
    "- これがtimestamp serverの電子署名の代わりとなる\n",
    "- blockのハッシュ値が適当な条件を満たすように**nonce**を追加する\n",
    "    - 例えば上4桁が0\n",
    "    - この制約を**difficulty**と呼ぶ\n",
    "    - difficultyは適当に調整される. 例えばbitcoinの場合は，blockの追加のintervalが10分程度になるように調整されるようだ\n",
    "        - [Difficulty \\- Bitcoin Wiki](https://en.bitcoin.it/wiki/Difficulty)\n",
    "    - 今回はdifficultyは固定にする\n",
    "- nonceを見つける作業が**mine**\n",
    "    - nonceを見つけるのは難しい(たくさん試して，あたりを引くしかない)\n",
    "    - これによってblockの生成を非常に高コストにすることができる\n",
    "    - nonceが正しいことを確認するのは簡単\n",
    "        - 電子署名と同様, 正当性の確認が簡単に行える\n",
    "- **mine**は誰でも行える"
   ]
  },
  {
   "cell_type": "markdown",
   "metadata": {},
   "source": [
    "- Blockにnonceをつける．今回の変更はこれだけ"
   ]
  },
  {
   "cell_type": "code",
   "execution_count": null,
   "metadata": {},
   "outputs": [],
   "source": [
    "@dataclass\n",
    "class Block:\n",
    "    time: float\n",
    "    transactions: Tuple[Transaction]\n",
    "    previous_hash: str\n",
    "    nonce: int = None\n",
    "        \n",
    "    def json_dumps(self) -> str:\n",
    "        dct=dc.asdict(self)\n",
    "        dct[\"transactions\"]=[t.json_dumps() for t in self.transactions]\n",
    "        return json.dumps(dct)\n",
    "    \n",
    "    @classmethod\n",
    "    def json_loads(cls, string) -> Block:\n",
    "        dct=json.loads(string)\n",
    "        dct[\"transactions\"]=tuple([Transaction.json_loads(t) for t in dct[\"transactions\"]])\n",
    "        return cls(**dct)\n",
    "        \n",
    "    def hash(self): \n",
    "        block_bytes=self.json_dumps().encode()\n",
    "        return hashlib.sha256(block_bytes).hexdigest()"
   ]
  },
  {
   "cell_type": "markdown",
   "metadata": {},
   "source": [
    "## nonce の正当性確認functionを実装"
   ]
  },
  {
   "cell_type": "code",
   "execution_count": 63,
   "metadata": {},
   "outputs": [],
   "source": [
    "difficulty=3\n",
    "def valid_proof(block):\n",
    "    return block.hash()[:difficulty] == \"0\" * difficulty"
   ]
  },
  {
   "cell_type": "markdown",
   "metadata": {},
   "source": [
    "## mineの実装\n",
    "- あたりを引くまで手当たり次第試す"
   ]
  },
  {
   "cell_type": "code",
   "execution_count": 64,
   "metadata": {},
   "outputs": [],
   "source": [
    "def mine(block):\n",
    "    nonce=0\n",
    "    block.nonce=nonce\n",
    "    while not valid_proof(block):\n",
    "        nonce += 1\n",
    "        block.nonce=nonce\n",
    "    return block"
   ]
  },
  {
   "cell_type": "markdown",
   "metadata": {},
   "source": [
    "- ついでにverify_blockも改良"
   ]
  },
  {
   "cell_type": "code",
   "execution_count": 65,
   "metadata": {},
   "outputs": [],
   "source": [
    "def verify_block(previous_block, block) -> bool:\n",
    "    is_correct_hash = previous_block.hash() ==  block.previous_hash\n",
    "    is_correct_transactions = all(map(verify_transaction, block.transactions))\n",
    "    is_correct_proof = valid_proof(block)\n",
    "    return is_correct_hash and is_correct_transactions and is_correct_proof"
   ]
  },
  {
   "cell_type": "markdown",
   "metadata": {},
   "source": [
    "- BlockChainもちょっと改良\n",
    "    - 自身をstrに変換するmethodをつける"
   ]
  },
  {
   "cell_type": "code",
   "execution_count": null,
   "metadata": {},
   "outputs": [],
   "source": [
    "class BlockChain(list):\n",
    "    def json_dumps(self) -> str:\n",
    "        return json.dumps([block.json_dumps() for block in self])\n",
    "    @classmethod\n",
    "    def json_loads(cls, string) -> BlockChain:\n",
    "        return cls([Block.json_loads(s) for s in json.loads(string)])"
   ]
  },
  {
   "cell_type": "markdown",
   "metadata": {},
   "source": [
    "## デモ: tranasctionの発行からminingまで"
   ]
  },
  {
   "cell_type": "code",
   "execution_count": null,
   "metadata": {},
   "outputs": [],
   "source": [
    "genesis=Block(time(), (), \"0\")\n",
    "block_chain=BlockChain([genesis])\n",
    "\n",
    "# 取引\n",
    "transactions=[]\n",
    "transactions.append(alice.send(bob.address, 5))\n",
    "transactions.append(bob.send(alice.address, 5))"
   ]
  },
  {
   "cell_type": "markdown",
   "metadata": {},
   "source": [
    "- mine"
   ]
  },
  {
   "cell_type": "code",
   "execution_count": 34,
   "metadata": {},
   "outputs": [],
   "source": [
    "previous_hash=block_chain[-1].hash()\n",
    "block=mine(Block(time(), tuple(transactions), previous_hash))"
   ]
  },
  {
   "cell_type": "code",
   "execution_count": 35,
   "metadata": {},
   "outputs": [
    {
     "data": {
      "text/plain": [
       "2523"
      ]
     },
     "execution_count": 35,
     "metadata": {},
     "output_type": "execute_result"
    }
   ],
   "source": [
    "block.nonce"
   ]
  },
  {
   "cell_type": "markdown",
   "metadata": {},
   "source": [
    "- かなり遅い実装をしているので，そこそこ時間がかかるかもしれない\n",
    "- blockを検証してみる"
   ]
  },
  {
   "cell_type": "code",
   "execution_count": 36,
   "metadata": {},
   "outputs": [
    {
     "data": {
      "text/plain": [
       "True"
      ]
     },
     "execution_count": 36,
     "metadata": {},
     "output_type": "execute_result"
    }
   ],
   "source": [
    "verify_block(block_chain[-1], block)"
   ]
  },
  {
   "cell_type": "markdown",
   "metadata": {},
   "source": [
    "# NodeとConsensus Algorithm\n",
    "- 前回までで分散管理の準備は整った\n",
    "- 具体的にblockchainをつくる**node**を実装する\n",
    "- nodeやsender, receiverが集まって**network**を形成する\n",
    "- networkの動きは以下のようになる"
   ]
  },
  {
   "cell_type": "markdown",
   "metadata": {},
   "source": [
    "1. senderがtransaction生成．なるべく多くのnodeにbroadcastする\n",
    "2. nodeはtransactionを集めてblockにまとめる\n",
    "3. mine\n",
    "4. 他のnodeにマイニングしたblockをbroadcastする\n",
    "5. blockを受け取ったnodeは，blockの正当性を確認し，double-spendingのチェックをする\n",
    "6. チェックが通れば，次のblockの作成を始める"
   ]
  },
  {
   "cell_type": "markdown",
   "metadata": {},
   "source": [
    "- Nodeが複数いて，異なるBlockChainを持つときは，どのように正しさを判断するか？\n",
    "    - **Consensus Algorithm**\n",
    "    - 最も長いblockchainを，最も正しいblockchainとみなす\n",
    "        - なぜなら，chainが長ければ長いほど，多くの計算資源が注ぎ込まれたことになるから\n",
    "        - 多数決ではなく，**one-CPU-one-vote**"
   ]
  },
  {
   "cell_type": "code",
   "execution_count": 37,
   "metadata": {},
   "outputs": [],
   "source": [
    "from uuid import uuid4\n",
    "from time import sleep\n",
    "from copy import deepcopy\n",
    "import multiprocessing as mp\n",
    "import random\n",
    "from itertools import count"
   ]
  },
  {
   "cell_type": "markdown",
   "metadata": {},
   "source": [
    "- nodeを実装する\n",
    "- networkまわりの細かい作業は，network interfaceに任せる"
   ]
  },
  {
   "cell_type": "code",
   "execution_count": null,
   "metadata": {},
   "outputs": [],
   "source": [
    "difficulty=3\n",
    "class Node:\n",
    "    def __init__(self, network, genesis, uuid=None):\n",
    "        self.chain=BlockChain([genesis])\n",
    "        self.uuid=uuid or str(uuid4())\n",
    "        self.network=network\n",
    "        \n",
    "    def work(self, verbose=False):\n",
    "        while True:\n",
    "            if not self.mine():\n",
    "                sleep(0.1) # wait due to no transactions\n",
    "            else:\n",
    "                if verbose: print(self.uuid, \"Mined a block\")\n",
    "            if self.add_block():\n",
    "                if verbose: print(self.uuid, \"Added one block\")\n",
    "            self.network.post_chain(self.chain, self.uuid) # publish my blockchain\n",
    "            if self.resolve_conflicts():\n",
    "                if verbose: print(self.uuid, \"Change chain\")\n",
    "    \n",
    "    def mine(self):\n",
    "        transactions=self.network.get_transactions(self.uuid)\n",
    "        if len(transactions)==0:\n",
    "            return False # cannot mine due to no transactions\n",
    "        previous_hash=self.chain[-1].hash()\n",
    "        block=Block(time(), tuple(transactions), previous_hash)\n",
    "        \n",
    "        for i, n in enumerate(self.random_generator()):\n",
    "            block.nonce=n\n",
    "            if self.verify_proof(block):\n",
    "                break\n",
    "                \n",
    "            if i % 100 == 0 and self.add_block(): # someone mined a block\n",
    "                return True\n",
    "            if i % 100 == 0 and self.resolve_conflicts(): # someone mined a block\n",
    "                return True\n",
    "                \n",
    "        self.network.broadcast_block(block, self.uuid)\n",
    "        return True # successfully mined\n",
    "    \n",
    "    @staticmethod\n",
    "    def random_generator(step=None):\n",
    "        step = step or random.randint(1e4, 1e5)\n",
    "        for c in count():\n",
    "            for i in random.sample(range(c*step, (c+1)*step), step):\n",
    "                yield i\n",
    "        \n",
    "    def add_block(self):\n",
    "        for block in self.network.get_blocks(self.uuid):\n",
    "            if self.verify_block(block):\n",
    "                self.chain.append(block)\n",
    "                if self.verify_chain(self.chain):\n",
    "                    return True \n",
    "                else:\n",
    "                    self.chain.pop(-1)\n",
    "        return False # no block is added\n",
    "    \n",
    "    def resolve_conflicts(self):\n",
    "        \"\"\"Longest valid chain is authoritative\"\"\"\n",
    "        authoritative_chain=self.chain\n",
    "        for chain in self.network.get_neighbour_chains(self.uuid):\n",
    "            if not self.verify_chain(chain):\n",
    "                # node is incorrect\n",
    "                continue\n",
    "            if len(chain)>len(authoritative_chain):\n",
    "                # Longest valid chain is authoritative\n",
    "                authoritative_chain=deepcopy(chain)\n",
    "        self.chain=authoritative_chain\n",
    "        return self.chain is not authoritative_chain\n",
    "        \n",
    "    @staticmethod\n",
    "    def verify_transaction(transaction):\n",
    "        if transaction.sign is None:\n",
    "            return False\n",
    "        h=SHA.new(transaction.str_data().encode())\n",
    "        verifier=PKCS1_v1_5.new(encode_key(transaction.sender_address))\n",
    "        return verifier.verify(h, binascii.unhexlify(transaction.sign))\n",
    "    \n",
    "    @staticmethod\n",
    "    def verify_proof(block):\n",
    "        return block.hash()[:difficulty] == \"0\" * difficulty\n",
    "    \n",
    "    def verify_block(self, block) -> bool:\n",
    "        is_correct_transactions = all(map(self.verify_transaction, block.transactions))\n",
    "        is_correct_proof = self.verify_proof(block)\n",
    "        return is_correct_transactions and is_correct_proof\n",
    "    \n",
    "    def verify_chain(self, chain):\n",
    "        for i in range(len(chain)-1, 0, -1):\n",
    "            if not self.verify_block(chain[i]):\n",
    "                return False\n",
    "            if chain[i-1].hash() != chain[i].previous_hash:\n",
    "                return False\n",
    "        return True"
   ]
  },
  {
   "cell_type": "markdown",
   "metadata": {},
   "source": [
    "- 全体的に，networkの作業が追加されている\n",
    "- mineを少し変更している\n",
    "    - 複数のnodeが同じ方法でマイニングをするのは無駄が生じる可能性がある\n",
    "        - 例えば全く同じBlockのマイニングを複数のノードが開始した場合，確実に最も計算力の高いnodeがマイニングを成功させることになる"
   ]
  },
  {
   "cell_type": "markdown",
   "metadata": {},
   "source": [
    "- Walletもネットワーク対応に\n",
    "    - transactionを発行したら，知っているnodeにtransactionを送る"
   ]
  },
  {
   "cell_type": "code",
   "execution_count": null,
   "metadata": {},
   "outputs": [],
   "source": [
    "class Wallet:\n",
    "    def __init__(self, network, nodes=None):\n",
    "        key=RSA.generate(1024)\n",
    "        self.private_key = decode_key(key)\n",
    "        self.address = decode_key(key.publickey())\n",
    "        self.network=network\n",
    "        self.nodes=nodes or []\n",
    "    \n",
    "    def sign_transaction(self, transaction):\n",
    "        signer=PKCS1_v1_5.new(encode_key(self.private_key))\n",
    "        h=SHA.new(transaction.str_data().encode())\n",
    "        return dc.replace(transaction, sign=signer.sign(h).hex())\n",
    "    \n",
    "    def send(self, receiver_address, value):\n",
    "        transaction=Transaction(self.address, receiver_address, value)\n",
    "        self.broadcast(self.sign_transaction(transaction))\n",
    "    \n",
    "    def broadcast(self, transaction):\n",
    "        for uuid in self.nodes:\n",
    "            self.network.post_transaction(transaction, uuid)"
   ]
  },
  {
   "cell_type": "markdown",
   "metadata": {},
   "source": [
    "- networkっぽいものを実装する\n",
    "    - Network classを中継点としてデータの遣り取りをする\n",
    "- あとでmultiprocessでノードを動かすために，データの管理はmultiprocess.managerで行う\n",
    "- flaskとかで作っても面白いかもしれない\n",
    "- 本質的でないので読み飛ばして良い"
   ]
  },
  {
   "cell_type": "code",
   "execution_count": 70,
   "metadata": {},
   "outputs": [],
   "source": [
    "from typing import List"
   ]
  },
  {
   "cell_type": "code",
   "execution_count": null,
   "metadata": {},
   "outputs": [],
   "source": [
    "class Network:\n",
    "    def __init__(self, neighbours=()):\n",
    "        self.manager=mp.Manager()\n",
    "        self.chains=self.manager.dict()\n",
    "        self.blocks=self.manager.dict()\n",
    "        self.transactions=self.manager.dict()\n",
    "        self.neighbours=dict(neighbours)\n",
    "        \n",
    "    def post_chain(self, chain, uuid):\n",
    "        self.chains[uuid]=chain.json_dumps()\n",
    "    \n",
    "    def get_chain(self, uuid) -> BlockChain:\n",
    "        if uuid not in self.chains:\n",
    "            return []\n",
    "        return BlockChain.json_loads(self.chains[uuid])\n",
    "    \n",
    "    def get_neighbour_chains(self, uuid) -> List[BlockChain]:\n",
    "        return [self.get_chain(neigh) for neigh in self.neighbours[uuid] if neigh != uuid]\n",
    "    \n",
    "    def post_block(self, block, uuid):\n",
    "        if uuid not in self.blocks:\n",
    "            self.blocks[uuid]=self.manager.list([block.json_dumps()])\n",
    "        else:\n",
    "            self.blocks[uuid].append(block.json_dumps())\n",
    "            \n",
    "    def broadcast_block(self, block, uuid):\n",
    "        for receiver in self.neighbours[uuid]:\n",
    "            self.post_block(block, receiver)\n",
    "            \n",
    "    def get_blocks(self, uuid) -> List[Block]:\n",
    "        if uuid not in self.blocks:\n",
    "            return []\n",
    "        res=[Block.json_loads(s) for s in self.blocks[uuid]]\n",
    "        self.blocks[uuid][:]=[]\n",
    "        return res\n",
    "    \n",
    "    def post_transaction(self, transaction, uuid):\n",
    "        if uuid not in self.transactions:\n",
    "            self.transactions[uuid]=self.manager.list([transaction.json_dumps()])\n",
    "        else:\n",
    "            self.transactions[uuid].append(transaction.json_dumps())\n",
    "            \n",
    "    def get_transactions(self, uuid) -> Tuple[Transaction]:\n",
    "        if uuid not in self.transactions:\n",
    "            return []\n",
    "        res=[Transaction.json_loads(s) for s in self.transactions[uuid]]\n",
    "        self.transactions[uuid][:]=[]\n",
    "        return res\n",
    "    \n",
    "    def shutdown(self):\n",
    "        self.manager.shutdown()"
   ]
  },
  {
   "cell_type": "markdown",
   "metadata": {},
   "source": [
    "## ノード1つの場合のテスト"
   ]
  },
  {
   "cell_type": "code",
   "execution_count": 42,
   "metadata": {},
   "outputs": [],
   "source": [
    "genesis=Block(time(), (), \"0\")\n",
    "uuid=\"test\"\n",
    "network=Network({uuid:[uuid]})\n",
    "node=Node(network, genesis, uuid)"
   ]
  },
  {
   "cell_type": "code",
   "execution_count": 43,
   "metadata": {},
   "outputs": [],
   "source": [
    "alice=Wallet(network, [uuid])\n",
    "bob=Wallet(network, [uuid])"
   ]
  },
  {
   "cell_type": "code",
   "execution_count": 44,
   "metadata": {},
   "outputs": [],
   "source": [
    "alice.send(bob.address, 5)"
   ]
  },
  {
   "cell_type": "markdown",
   "metadata": {},
   "source": [
    "- これを実行してしばらく問題が起きなければOK\n",
    "    - 適当にinterruptする"
   ]
  },
  {
   "cell_type": "code",
   "execution_count": 45,
   "metadata": {},
   "outputs": [],
   "source": [
    "# node.work(verbose=True)"
   ]
  },
  {
   "cell_type": "markdown",
   "metadata": {},
   "source": [
    "- 後片付け"
   ]
  },
  {
   "cell_type": "code",
   "execution_count": 46,
   "metadata": {},
   "outputs": [],
   "source": [
    "network.shutdown()"
   ]
  },
  {
   "cell_type": "markdown",
   "metadata": {},
   "source": [
    "# デモ: 分散blockchainのデモ\n",
    "- multiprocessingでnetworkのデモを行う"
   ]
  },
  {
   "cell_type": "code",
   "execution_count": 47,
   "metadata": {},
   "outputs": [],
   "source": [
    "genesis=Block(time(), (), \"0\")\n",
    "network=Network()"
   ]
  },
  {
   "cell_type": "markdown",
   "metadata": {},
   "source": [
    "- node生成\n",
    "- 適当にnum_nodesを変更して遊ぶと良い"
   ]
  },
  {
   "cell_type": "code",
   "execution_count": 48,
   "metadata": {},
   "outputs": [],
   "source": [
    "num_nodes=7\n",
    "nodes=[str(uuid4()) for _ in range(num_nodes)]"
   ]
  },
  {
   "cell_type": "markdown",
   "metadata": {},
   "source": [
    "- nodeのnetworkの状態を定義する\n",
    "- とりあえずは全結合にする\n",
    "    - つまり全てのNode同士，直接やりとりできる"
   ]
  },
  {
   "cell_type": "code",
   "execution_count": 49,
   "metadata": {},
   "outputs": [],
   "source": [
    "for uuid in nodes:\n",
    "    network.neighbours[uuid]=nodes"
   ]
  },
  {
   "cell_type": "markdown",
   "metadata": {},
   "source": [
    "- multiprocess workerを作って起動する"
   ]
  },
  {
   "cell_type": "code",
   "execution_count": 50,
   "metadata": {},
   "outputs": [],
   "source": [
    "def node_work(uuid):\n",
    "    node=Node(network, genesis, uuid)\n",
    "    node.work()"
   ]
  },
  {
   "cell_type": "code",
   "execution_count": 51,
   "metadata": {},
   "outputs": [],
   "source": [
    "workers=[]\n",
    "for uuid in nodes:\n",
    "    worker=mp.Process(target=node_work, args=(uuid,))\n",
    "    workers.append(worker)\n",
    "    worker.start()"
   ]
  },
  {
   "cell_type": "markdown",
   "metadata": {},
   "source": [
    "- peopleを生成する\n",
    "- これも適当に人数を変えて遊ぶと良い"
   ]
  },
  {
   "cell_type": "code",
   "execution_count": 52,
   "metadata": {},
   "outputs": [],
   "source": [
    "num_people=5\n",
    "people=[Wallet(network, random.sample(nodes, random.randint(1, len(nodes)))) for _ in range(num_people)]"
   ]
  },
  {
   "cell_type": "markdown",
   "metadata": {},
   "source": [
    "### blockchain の表示\n",
    "- 各ノードの持つblockchainがどの様になっているのか表示する\n",
    "- 別Processで行う\n",
    "    - Jupyterは賢いのでoutputにきちんと表示してくれる"
   ]
  },
  {
   "cell_type": "code",
   "execution_count": 53,
   "metadata": {},
   "outputs": [
    {
     "name": "stdout",
     "output_type": "stream",
     "text": [
      "(Node: 7301) [9e462]--[00001]\n",
      "(Node: 0aab) [9e462]--[00001]\n",
      "(Node: 76a6) [9e462]--[00001]\n",
      "(Node: 381e) [9e462]--[00001]\n",
      "(Node: 0887) [9e462]\n",
      "(Node: 6207) [9e462]--[00001]\n",
      "(Node: 0443) [9e462]\n"
     ]
    }
   ],
   "source": [
    "from IPython.display import clear_output\n",
    "def draw_chains(network):\n",
    "    while True:\n",
    "        line=\"\"\n",
    "        for k, v in network.chains.items():\n",
    "            line += f\"(Node: {k[:4]}) \"\n",
    "            chain=BlockChain.json_loads(v)\n",
    "            h=list(map(lambda x: x.hash()[:5], chain))\n",
    "            line += \"--\".join(map(lambda x: f\"[{x}]\", h))\n",
    "            line += \"\\n\"\n",
    "        print(line.rstrip())\n",
    "        clear_output(True)\n",
    "        sleep(0.1)\n",
    "\n",
    "worker=mp.Process(target=draw_chains, args=(network,))\n",
    "worker.start()"
   ]
  },
  {
   "cell_type": "markdown",
   "metadata": {},
   "source": [
    "- 取引をして遊ぶ\n",
    "    - ランダムに取引が行われるコードを書いてみる\n",
    "    - 上の表示が変化する!"
   ]
  },
  {
   "cell_type": "code",
   "execution_count": 54,
   "metadata": {},
   "outputs": [],
   "source": [
    "def generate_transactions():\n",
    "    for _ in range(random.randint(1,10)):\n",
    "        sender, receiver= random.sample(people, 2)\n",
    "        sender.send(receiver.address, random.randint(1, 100))"
   ]
  },
  {
   "cell_type": "code",
   "execution_count": 55,
   "metadata": {},
   "outputs": [],
   "source": [
    "generate_transactions()"
   ]
  },
  {
   "cell_type": "markdown",
   "metadata": {},
   "source": [
    "- networkをちょと変えて遊んで見る\n",
    "    - ちょっと断線させる"
   ]
  },
  {
   "cell_type": "code",
   "execution_count": 56,
   "metadata": {},
   "outputs": [],
   "source": [
    "for uuid in nodes:\n",
    "    network.neighbours[uuid]=random.sample(nodes, 3)"
   ]
  },
  {
   "cell_type": "code",
   "execution_count": 57,
   "metadata": {},
   "outputs": [],
   "source": [
    "generate_transactions()"
   ]
  },
  {
   "cell_type": "markdown",
   "metadata": {},
   "source": [
    "### 片付け"
   ]
  },
  {
   "cell_type": "code",
   "execution_count": 58,
   "metadata": {},
   "outputs": [],
   "source": [
    "worker.terminate()\n",
    "worker.kill()\n",
    "for worker in workers:\n",
    "    worker.terminate()\n",
    "    worker.kill()\n",
    "network.shutdown()"
   ]
  },
  {
   "cell_type": "markdown",
   "metadata": {},
   "source": [
    "# おわりに\n",
    "- 本物のBitCoinとは異なる部分がたくさんあります\n",
    "\n",
    "# 参考文献\n",
    "- [Bitcoin white paper](https://bitcoin.org/bitcoin.pdf)\n",
    "    - 専門外でも読みやすいです\n",
    "- [Bitcoin Wiki](https://en.bitcoin.it/wiki/Main_Page)\n",
    "    - 非常に情報量が多いです"
   ]
  }
 ],
 "metadata": {
  "kernelspec": {
   "display_name": "py37",
   "language": "python",
   "name": "py37"
  },
  "language_info": {
   "codemirror_mode": {
    "name": "ipython",
    "version": 3
   },
   "file_extension": ".py",
   "mimetype": "text/x-python",
   "name": "python",
   "nbconvert_exporter": "python",
   "pygments_lexer": "ipython3",
   "version": "3.7.1"
  }
 },
 "nbformat": 4,
 "nbformat_minor": 2
}
